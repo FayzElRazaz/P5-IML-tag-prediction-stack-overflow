{
 "cells": [
  {
   "cell_type": "markdown",
   "id": "3f3c6d8e",
   "metadata": {},
   "source": [
    "# Projet 5 - Catégorisez automatiquement des questions"
   ]
  },
  {
   "cell_type": "markdown",
   "id": "7216c392",
   "metadata": {},
   "source": [
    "## Partie 1 -- Exploration"
   ]
  },
  {
   "cell_type": "markdown",
   "id": "f5396645",
   "metadata": {},
   "source": [
    "### Espace de bibliothèques"
   ]
  },
  {
   "cell_type": "code",
   "execution_count": 2,
   "id": "7af631fe",
   "metadata": {},
   "outputs": [
    {
     "name": "stderr",
     "output_type": "stream",
     "text": [
      "/usr/lib/python3/dist-packages/past/builtins/misc.py:45: DeprecationWarning: the imp module is deprecated in favour of importlib and slated for removal in Python 3.12; see the module's documentation for alternative uses\n",
      "  from imp import reload\n"
     ]
    }
   ],
   "source": [
    "import IPython.display\n",
    "import pandas as pd\n",
    "import matplotlib.pyplot as plt\n",
    "import numpy as np\n",
    "import nltk\n",
    "import seaborn as sb\n",
    "import time\n",
    "import mglearn\n",
    "import pyLDAvis.gensim_models\n",
    "import warnings\n",
    "from collections import Counter\n",
    "from nltk.tokenize import sent_tokenize, word_tokenize\n",
    "from sklearn.feature_extraction.text import CountVectorizer, TfidfVectorizer\n",
    "from sklearn import manifold, decomposition\n",
    "from sklearn import cluster, metrics\n",
    "from sklearn.model_selection import train_test_split"
   ]
  },
  {
   "cell_type": "code",
   "execution_count": 3,
   "id": "b3ca2487",
   "metadata": {},
   "outputs": [],
   "source": [
    "warnings.filterwarnings(\"ignore\", category=DeprecationWarning)"
   ]
  },
  {
   "cell_type": "code",
   "execution_count": 4,
   "id": "9e870291",
   "metadata": {},
   "outputs": [],
   "source": [
    "warnings.filterwarnings(\"ignore\", category=FutureWarning)"
   ]
  },
  {
   "cell_type": "markdown",
   "id": "3b9a6ed8",
   "metadata": {},
   "source": [
    "### Espace de fonctions"
   ]
  },
  {
   "cell_type": "code",
   "execution_count": 5,
   "id": "27fd4270",
   "metadata": {
    "scrolled": true
   },
   "outputs": [
    {
     "name": "stderr",
     "output_type": "stream",
     "text": [
      "[nltk_data] Downloading package stopwords to /home/fayz/nltk_data...\n",
      "[nltk_data]   Package stopwords is already up-to-date!\n"
     ]
    },
    {
     "data": {
      "text/plain": [
       "True"
      ]
     },
     "execution_count": 5,
     "metadata": {},
     "output_type": "execute_result"
    }
   ],
   "source": [
    "nltk.download('stopwords')"
   ]
  },
  {
   "cell_type": "code",
   "execution_count": 6,
   "id": "e5b34ad5",
   "metadata": {},
   "outputs": [
    {
     "name": "stderr",
     "output_type": "stream",
     "text": [
      "[nltk_data] Downloading package omw-1.4 to /home/fayz/nltk_data...\n",
      "[nltk_data]   Package omw-1.4 is already up-to-date!\n"
     ]
    },
    {
     "data": {
      "text/plain": [
       "True"
      ]
     },
     "execution_count": 6,
     "metadata": {},
     "output_type": "execute_result"
    }
   ],
   "source": [
    "nltk.download('omw-1.4')"
   ]
  },
  {
   "cell_type": "code",
   "execution_count": 7,
   "id": "5a4007ad",
   "metadata": {},
   "outputs": [
    {
     "name": "stderr",
     "output_type": "stream",
     "text": [
      "[nltk_data] Downloading package punkt to /home/fayz/nltk_data...\n",
      "[nltk_data]   Package punkt is already up-to-date!\n"
     ]
    },
    {
     "data": {
      "text/plain": [
       "True"
      ]
     },
     "execution_count": 7,
     "metadata": {},
     "output_type": "execute_result"
    }
   ],
   "source": [
    "nltk.download('punkt')"
   ]
  },
  {
   "cell_type": "code",
   "execution_count": 8,
   "id": "27b31dea",
   "metadata": {},
   "outputs": [
    {
     "name": "stderr",
     "output_type": "stream",
     "text": [
      "[nltk_data] Downloading package wordnet to /home/fayz/nltk_data...\n",
      "[nltk_data]   Package wordnet is already up-to-date!\n"
     ]
    },
    {
     "data": {
      "text/plain": [
       "True"
      ]
     },
     "execution_count": 8,
     "metadata": {},
     "output_type": "execute_result"
    }
   ],
   "source": [
    "nltk.download('wordnet')"
   ]
  },
  {
   "cell_type": "code",
   "execution_count": 9,
   "id": "909cd4b1",
   "metadata": {},
   "outputs": [],
   "source": [
    "def tokenizer_fct(sentence) :\n",
    "    # print(sentence)\n",
    "    sentence_clean = sentence.replace('-', ' ').replace('+', ' ').replace('/', ' ').replace('#', ' ')\n",
    "    word_tokens = word_tokenize(sentence_clean)\n",
    "    return word_tokens\n",
    "\n",
    "# Stop words\n",
    "from nltk.corpus import stopwords\n",
    "stop_w = list(set(stopwords.words('english'))) + ['[', ']', ',', '.', ':', '?', '(', ')']\n",
    "\n",
    "def stop_word_filter_fct(list_words) :\n",
    "    filtered_w = [w for w in list_words if not w in stop_w]\n",
    "    filtered_w2 = [w for w in filtered_w if len(w) > 2]\n",
    "    return filtered_w2\n",
    "\n",
    "# lower case et alpha\n",
    "def lower_start_fct(list_words) :\n",
    "    lw = [w.lower() for w in list_words if (not w.startswith(\"@\")) \n",
    "    #                                   and (not w.startswith(\"#\"))\n",
    "                                       and (not w.startswith(\"http\"))]\n",
    "    return lw\n",
    "\n",
    "# Lemmatizer (base d'un mot)\n",
    "from nltk.stem import WordNetLemmatizer\n",
    "\n",
    "def lemma_fct(list_words) :\n",
    "    lemmatizer = WordNetLemmatizer()\n",
    "    lem_w = [lemmatizer.lemmatize(w) for w in list_words]\n",
    "    return lem_w\n",
    "\n",
    "# Fonction de préparation du texte pour le bag of words (Countvectorizer et Tf_idf, Word2Vec)\n",
    "def transform_bow_fct(desc_text) :\n",
    "    word_tokens = tokenizer_fct(desc_text)\n",
    "    sw = stop_word_filter_fct(word_tokens)\n",
    "    lw = lower_start_fct(sw)\n",
    "    # lem_w = lemma_fct(lw)    \n",
    "    transf_desc_text = ' '.join(lw)\n",
    "    return transf_desc_text\n",
    "\n",
    "# Fonction de préparation du texte pour le bag of words avec lemmatization\n",
    "def transform_bow_lem_fct(desc_text) :\n",
    "    word_tokens = tokenizer_fct(desc_text)\n",
    "    sw = stop_word_filter_fct(word_tokens)\n",
    "    lw = lower_start_fct(sw)\n",
    "    lem_w = lemma_fct(lw)    \n",
    "    transf_desc_text = ' '.join(lem_w)\n",
    "    return transf_desc_text\n",
    "\n",
    "# Fonction de préparation du texte pour le Deep learning (USE et BERT)\n",
    "def transform_dl_fct(desc_text) :\n",
    "    word_tokens = tokenizer_fct(desc_text)\n",
    "#    sw = stop_word_filter_fct(word_tokens)\n",
    "    lw = lower_start_fct(word_tokens)\n",
    "    # lem_w = lemma_fct(lw)    \n",
    "    transf_desc_text = ' '.join(lw)\n",
    "    return transf_desc_text\n"
   ]
  },
  {
   "cell_type": "code",
   "execution_count": 10,
   "id": "a2fa4e56",
   "metadata": {},
   "outputs": [],
   "source": [
    "def len_col(df, nom_col):\n",
    "    nom = \"len_\"+nom_col\n",
    "    l = df.shape[0]\n",
    "    df[nom] = 0\n",
    "    for i in range(l):\n",
    "        df.loc[i,nom] = len(df.loc[i,nom_col])"
   ]
  },
  {
   "cell_type": "code",
   "execution_count": 11,
   "id": "a0d117a6",
   "metadata": {},
   "outputs": [],
   "source": [
    "def tup_type(df):\n",
    "    tup_int64 = []\n",
    "    tup_obj = []\n",
    "    tup_float64 = []\n",
    "    for i in range(len(df.columns)):\n",
    "        if(df[df.columns[i]].dtype == 'int64'):\n",
    "            tup_int64.append(df.columns[i])\n",
    "        elif(df[df.columns[i]].dtype == 'float64'):\n",
    "            tup_float64.append(df.columns[i])\n",
    "        else:\n",
    "            tup_obj.append(df.columns[i])\n",
    "    print(\"In order : int64, obj, float64\")\n",
    "    return tup_int64, tup_obj, tup_float64"
   ]
  },
  {
   "cell_type": "markdown",
   "id": "1c56b7de",
   "metadata": {},
   "source": [
    "### Dataset"
   ]
  },
  {
   "cell_type": "code",
   "execution_count": 12,
   "id": "da769a58",
   "metadata": {
    "scrolled": true
   },
   "outputs": [],
   "source": [
    "df = pd.read_csv(\"/home/fayz/Documents/OpenClassrooms/Projet5/QueryResults.csv\")"
   ]
  },
  {
   "cell_type": "markdown",
   "id": "abeffe9c",
   "metadata": {},
   "source": [
    "### Analyse exploratoire"
   ]
  },
  {
   "cell_type": "code",
   "execution_count": 11,
   "id": "bef318d6",
   "metadata": {},
   "outputs": [
    {
     "data": {
      "text/html": [
       "<div>\n",
       "<style scoped>\n",
       "    .dataframe tbody tr th:only-of-type {\n",
       "        vertical-align: middle;\n",
       "    }\n",
       "\n",
       "    .dataframe tbody tr th {\n",
       "        vertical-align: top;\n",
       "    }\n",
       "\n",
       "    .dataframe thead th {\n",
       "        text-align: right;\n",
       "    }\n",
       "</style>\n",
       "<table border=\"1\" class=\"dataframe\">\n",
       "  <thead>\n",
       "    <tr style=\"text-align: right;\">\n",
       "      <th></th>\n",
       "      <th>Title</th>\n",
       "      <th>Body</th>\n",
       "      <th>Tags</th>\n",
       "      <th>Id</th>\n",
       "      <th>Score</th>\n",
       "      <th>ViewCount</th>\n",
       "      <th>FavoriteCount</th>\n",
       "      <th>AnswerCount</th>\n",
       "    </tr>\n",
       "  </thead>\n",
       "  <tbody>\n",
       "    <tr>\n",
       "      <th>0</th>\n",
       "      <td>Print array without brackets and commas</td>\n",
       "      <td>&lt;p&gt;I'm porting a Hangman game to Android and h...</td>\n",
       "      <td>&lt;java&gt;&lt;android&gt;&lt;arrays&gt;&lt;list&gt;&lt;collections&gt;</td>\n",
       "      <td>4389480</td>\n",
       "      <td>55</td>\n",
       "      <td>192840</td>\n",
       "      <td>17</td>\n",
       "      <td>12</td>\n",
       "    </tr>\n",
       "    <tr>\n",
       "      <th>1</th>\n",
       "      <td>Allen Holub wrote \"You should never use get/se...</td>\n",
       "      <td>&lt;p&gt;Allen Holub wrote the following,&lt;/p&gt;\\n\\n&lt;bl...</td>\n",
       "      <td>&lt;language-agnostic&gt;&lt;oop&gt;&lt;immutability&gt;&lt;setter&gt;...</td>\n",
       "      <td>996179</td>\n",
       "      <td>51</td>\n",
       "      <td>9946</td>\n",
       "      <td>26</td>\n",
       "      <td>13</td>\n",
       "    </tr>\n",
       "    <tr>\n",
       "      <th>2</th>\n",
       "      <td>How do you get a directory listing in C?</td>\n",
       "      <td>&lt;p&gt;How do you scan a directory for folders and...</td>\n",
       "      <td>&lt;c&gt;&lt;file&gt;&lt;directory&gt;&lt;cross-platform&gt;&lt;common-ta...</td>\n",
       "      <td>12489</td>\n",
       "      <td>68</td>\n",
       "      <td>138108</td>\n",
       "      <td>22</td>\n",
       "      <td>9</td>\n",
       "    </tr>\n",
       "    <tr>\n",
       "      <th>3</th>\n",
       "      <td>Returning DataTables in WCF/.NET</td>\n",
       "      <td>&lt;p&gt;I have a WCF service from which I want to r...</td>\n",
       "      <td>&lt;c#&gt;&lt;.net&gt;&lt;wcf&gt;&lt;web-services&gt;&lt;datatable&gt;</td>\n",
       "      <td>12702</td>\n",
       "      <td>51</td>\n",
       "      <td>56351</td>\n",
       "      <td>12</td>\n",
       "      <td>8</td>\n",
       "    </tr>\n",
       "    <tr>\n",
       "      <th>4</th>\n",
       "      <td>Element not visible error (not able to click a...</td>\n",
       "      <td>&lt;p&gt;I want to click on a radio button, appears ...</td>\n",
       "      <td>&lt;javascript&gt;&lt;angularjs&gt;&lt;selenium&gt;&lt;selenium-web...</td>\n",
       "      <td>37809915</td>\n",
       "      <td>43</td>\n",
       "      <td>44978</td>\n",
       "      <td>21</td>\n",
       "      <td>1</td>\n",
       "    </tr>\n",
       "  </tbody>\n",
       "</table>\n",
       "</div>"
      ],
      "text/plain": [
       "                                               Title  \\\n",
       "0            Print array without brackets and commas   \n",
       "1  Allen Holub wrote \"You should never use get/se...   \n",
       "2           How do you get a directory listing in C?   \n",
       "3                   Returning DataTables in WCF/.NET   \n",
       "4  Element not visible error (not able to click a...   \n",
       "\n",
       "                                                Body  \\\n",
       "0  <p>I'm porting a Hangman game to Android and h...   \n",
       "1  <p>Allen Holub wrote the following,</p>\\n\\n<bl...   \n",
       "2  <p>How do you scan a directory for folders and...   \n",
       "3  <p>I have a WCF service from which I want to r...   \n",
       "4  <p>I want to click on a radio button, appears ...   \n",
       "\n",
       "                                                Tags        Id  Score  \\\n",
       "0         <java><android><arrays><list><collections>   4389480     55   \n",
       "1  <language-agnostic><oop><immutability><setter>...    996179     51   \n",
       "2  <c><file><directory><cross-platform><common-ta...     12489     68   \n",
       "3           <c#><.net><wcf><web-services><datatable>     12702     51   \n",
       "4  <javascript><angularjs><selenium><selenium-web...  37809915     43   \n",
       "\n",
       "   ViewCount  FavoriteCount  AnswerCount  \n",
       "0     192840             17           12  \n",
       "1       9946             26           13  \n",
       "2     138108             22            9  \n",
       "3      56351             12            8  \n",
       "4      44978             21            1  "
      ]
     },
     "execution_count": 11,
     "metadata": {},
     "output_type": "execute_result"
    }
   ],
   "source": [
    "df.head()"
   ]
  },
  {
   "cell_type": "code",
   "execution_count": 12,
   "id": "08a4ffdf",
   "metadata": {},
   "outputs": [
    {
     "data": {
      "text/plain": [
       "['c', 'file', 'directory', 'cross-platform', 'common-tasks', '']"
      ]
     },
     "execution_count": 12,
     "metadata": {},
     "output_type": "execute_result"
    }
   ],
   "source": [
    "df.loc[2,\"Tags\"].replace(' ','').replace('<','').replace('>',' ').split(' ')"
   ]
  },
  {
   "cell_type": "code",
   "execution_count": 13,
   "id": "24a2687c",
   "metadata": {},
   "outputs": [
    {
     "data": {
      "text/plain": [
       "(27528, 8)"
      ]
     },
     "execution_count": 13,
     "metadata": {},
     "output_type": "execute_result"
    }
   ],
   "source": [
    "df.shape"
   ]
  },
  {
   "cell_type": "markdown",
   "id": "434f6ddf",
   "metadata": {},
   "source": [
    "### Valeurs manquantes"
   ]
  },
  {
   "cell_type": "code",
   "execution_count": 14,
   "id": "4dc1cdbd",
   "metadata": {},
   "outputs": [
    {
     "data": {
      "text/plain": [
       "Title            0\n",
       "Body             0\n",
       "Tags             0\n",
       "Id               0\n",
       "Score            0\n",
       "ViewCount        0\n",
       "FavoriteCount    0\n",
       "AnswerCount      0\n",
       "dtype: int64"
      ]
     },
     "execution_count": 14,
     "metadata": {},
     "output_type": "execute_result"
    }
   ],
   "source": [
    "df.isna().sum()"
   ]
  },
  {
   "cell_type": "markdown",
   "id": "18f10f20",
   "metadata": {},
   "source": [
    "### Création de nouvelles variables"
   ]
  },
  {
   "cell_type": "code",
   "execution_count": 15,
   "id": "cc339310",
   "metadata": {
    "scrolled": true
   },
   "outputs": [],
   "source": [
    "len_col(df,\"Title\")"
   ]
  },
  {
   "cell_type": "code",
   "execution_count": 16,
   "id": "7e33f29f",
   "metadata": {},
   "outputs": [],
   "source": [
    "len_col(df,\"Body\")"
   ]
  },
  {
   "cell_type": "markdown",
   "id": "08b8d28e",
   "metadata": {},
   "source": [
    "### Analyse unvariée"
   ]
  },
  {
   "cell_type": "code",
   "execution_count": 17,
   "id": "6d5276ae",
   "metadata": {
    "scrolled": false
   },
   "outputs": [
    {
     "name": "stdout",
     "output_type": "stream",
     "text": [
      "In order : int64, obj, float64\n"
     ]
    },
    {
     "data": {
      "image/png": "[encoded data removed]",
      "text/plain": [
       "<Figure size 432x288 with 2 Axes>"
      ]
     },
     "metadata": {
      "needs_background": "light"
     },
     "output_type": "display_data"
    },
    {
     "data": {
      "image/png": "[encoded data removed]",
      "text/plain": [
       "<Figure size 432x288 with 2 Axes>"
      ]
     },
     "metadata": {
      "needs_background": "light"
     },
     "output_type": "display_data"
    },
    {
     "data": {
      "image/png": "[encoded data removed]",
      "text/plain": [
       "<Figure size 432x288 with 2 Axes>"
      ]
     },
     "metadata": {
      "needs_background": "light"
     },
     "output_type": "display_data"
    },
    {
     "data": {
      "image/png": "[encoded data removed]",
      "text/plain": [
       "<Figure size 432x288 with 2 Axes>"
      ]
     },
     "metadata": {
      "needs_background": "light"
     },
     "output_type": "display_data"
    },
    {
     "data": {
      "image/png": "[encoded data removed]",
      "text/plain": [
       "<Figure size 432x288 with 2 Axes>"
      ]
     },
     "metadata": {
      "needs_background": "light"
     },
     "output_type": "display_data"
    },
    {
     "data": {
      "image/png": "[encoded data removed]",
      "text/plain": [
       "<Figure size 432x288 with 2 Axes>"
      ]
     },
     "metadata": {
      "needs_background": "light"
     },
     "output_type": "display_data"
    },
    {
     "data": {
      "image/png": "[encoded data removed]",
      "text/plain": [
       "<Figure size 432x288 with 2 Axes>"
      ]
     },
     "metadata": {
      "needs_background": "light"
     },
     "output_type": "display_data"
    }
   ],
   "source": [
    "sb.set(rc={'figure.figsize':(16,6)})\n",
    "for i in tup_type(df)[0]:\n",
    "    fig, axes = plt.subplots(1,2)\n",
    "    sb.boxplot(x= df.loc[:,i], ax = axes[0])\n",
    "    sb.histplot(df.loc[:,i], kde = True, ax = axes[1])\n",
    "    plt.show()"
   ]
  },
  {
   "cell_type": "code",
   "execution_count": 18,
   "id": "ae0556ce",
   "metadata": {},
   "outputs": [
    {
     "name": "stdout",
     "output_type": "stream",
     "text": [
      "<class 'pandas.core.frame.DataFrame'>\n",
      "RangeIndex: 27528 entries, 0 to 27527\n",
      "Data columns (total 10 columns):\n",
      " #   Column         Non-Null Count  Dtype \n",
      "---  ------         --------------  ----- \n",
      " 0   Title          27528 non-null  object\n",
      " 1   Body           27528 non-null  object\n",
      " 2   Tags           27528 non-null  object\n",
      " 3   Id             27528 non-null  int64 \n",
      " 4   Score          27528 non-null  int64 \n",
      " 5   ViewCount      27528 non-null  int64 \n",
      " 6   FavoriteCount  27528 non-null  int64 \n",
      " 7   AnswerCount    27528 non-null  int64 \n",
      " 8   len_Title      27528 non-null  int64 \n",
      " 9   len_Body       27528 non-null  int64 \n",
      "dtypes: int64(7), object(3)\n",
      "memory usage: 2.1+ MB\n",
      "CPU times: user 10.8 ms, sys: 1.37 ms, total: 12.2 ms\n",
      "Wall time: 20.8 ms\n"
     ]
    }
   ],
   "source": [
    "%%time\n",
    "df.info()"
   ]
  },
  {
   "cell_type": "code",
   "execution_count": 19,
   "id": "16e84c07",
   "metadata": {
    "scrolled": true
   },
   "outputs": [
    {
     "name": "stdout",
     "output_type": "stream",
     "text": [
      "In order : int64, obj, float64\n"
     ]
    },
    {
     "data": {
      "text/plain": [
       "['Id',\n",
       " 'Score',\n",
       " 'ViewCount',\n",
       " 'FavoriteCount',\n",
       " 'AnswerCount',\n",
       " 'len_Title',\n",
       " 'len_Body']"
      ]
     },
     "execution_count": 19,
     "metadata": {},
     "output_type": "execute_result"
    }
   ],
   "source": [
    "tup_type(df)[0]"
   ]
  },
  {
   "cell_type": "markdown",
   "id": "86d31f41",
   "metadata": {},
   "source": [
    "### Visualisation des Fréquences de tags"
   ]
  },
  {
   "cell_type": "code",
   "execution_count": 15,
   "id": "c9ecb1b8",
   "metadata": {
    "scrolled": true
   },
   "outputs": [
    {
     "name": "stdout",
     "output_type": "stream",
     "text": [
      "CPU times: user 122 ms, sys: 0 ns, total: 122 ms\n",
      "Wall time: 121 ms\n"
     ]
    }
   ],
   "source": [
    "%%time\n",
    "tags = []\n",
    "for i in range(len(df)):\n",
    "    tags.append(df['Tags'][i].replace('>','').replace('<',' ').split())"
   ]
  },
  {
   "cell_type": "code",
   "execution_count": 16,
   "id": "c0edd0aa",
   "metadata": {},
   "outputs": [
    {
     "name": "stdout",
     "output_type": "stream",
     "text": [
      "[['python' '3118']\n",
      " ['java' '3088']\n",
      " ['javascript' '2734']\n",
      " ['c#' '2672']\n",
      " ['ios' '2406']\n",
      " ['android' '2014']\n",
      " ['c++' '1846']\n",
      " ['.net' '1419']\n",
      " ['iphone' '1323']\n",
      " ['objective-c' '1297']]\n",
      "CPU times: user 16 ms, sys: 0 ns, total: 16 ms\n",
      "Wall time: 15.6 ms\n"
     ]
    }
   ],
   "source": [
    "%%time\n",
    "words = []\n",
    "for t in tags:\n",
    "     words += t\n",
    "freq_totale = Counter(words)\n",
    "print(np.array(freq_totale.most_common(10)))"
   ]
  },
  {
   "cell_type": "code",
   "execution_count": 50,
   "id": "6f966f29",
   "metadata": {
    "scrolled": false
   },
   "outputs": [
    {
     "data": {
      "image/png": "[encoded data removed]",
      "text/plain": [
       "<Figure size 1080x720 with 1 Axes>"
      ]
     },
     "metadata": {
      "needs_background": "light"
     },
     "output_type": "display_data"
    },
    {
     "name": "stdout",
     "output_type": "stream",
     "text": [
      "CPU times: user 293 ms, sys: 111 ms, total: 405 ms\n",
      "Wall time: 260 ms\n"
     ]
    }
   ],
   "source": [
    "%%time\n",
    "nb_titre = 50\n",
    "plt.figure(figsize=(15,10))\n",
    "lst = freq_totale.most_common(nb_titre)\n",
    "df_tags = pd.DataFrame(lst, columns=['Word','Count'])\n",
    "df_tags = df_tags.sort_values(by = 'Count')\n",
    "plt.barh(df_tags.Word,df_tags.Count)\n",
    "#df_words.plot.bar(x = 'Word',y = 'Count', )\n",
    "for index, value in enumerate(df_tags['Count']):\n",
    "    plt.text(value, index, str(value))\n",
    "plt.show()"
   ]
  },
  {
   "cell_type": "code",
   "execution_count": 49,
   "id": "35038744",
   "metadata": {},
   "outputs": [
    {
     "data": {
      "text/html": [
       "<div>\n",
       "<style scoped>\n",
       "    .dataframe tbody tr th:only-of-type {\n",
       "        vertical-align: middle;\n",
       "    }\n",
       "\n",
       "    .dataframe tbody tr th {\n",
       "        vertical-align: top;\n",
       "    }\n",
       "\n",
       "    .dataframe thead th {\n",
       "        text-align: right;\n",
       "    }\n",
       "</style>\n",
       "<table border=\"1\" class=\"dataframe\">\n",
       "  <thead>\n",
       "    <tr style=\"text-align: right;\">\n",
       "      <th></th>\n",
       "      <th>Word</th>\n",
       "      <th>Count</th>\n",
       "    </tr>\n",
       "  </thead>\n",
       "  <tbody>\n",
       "    <tr>\n",
       "      <th>276</th>\n",
       "      <td>directory</td>\n",
       "      <td>74</td>\n",
       "    </tr>\n",
       "  </tbody>\n",
       "</table>\n",
       "</div>"
      ],
      "text/plain": [
       "          Word  Count\n",
       "276  directory     74"
      ]
     },
     "execution_count": 49,
     "metadata": {},
     "output_type": "execute_result"
    }
   ],
   "source": [
    "df_tags[df_tags['Word']=='directory']"
   ]
  },
  {
   "cell_type": "code",
   "execution_count": 32,
   "id": "8ac0d614",
   "metadata": {},
   "outputs": [
    {
     "data": {
      "text/plain": [
       "30243"
      ]
     },
     "execution_count": 32,
     "metadata": {},
     "output_type": "execute_result"
    }
   ],
   "source": [
    "sum(df_tags.Count)"
   ]
  },
  {
   "cell_type": "code",
   "execution_count": 23,
   "id": "b2f6bf7a",
   "metadata": {},
   "outputs": [],
   "source": [
    "l_cat = list(set(df['Tags']))\n",
    "#print(\"catégories : \", l_cat)"
   ]
  },
  {
   "cell_type": "markdown",
   "id": "23d98149",
   "metadata": {},
   "source": [
    "## Nettoyage"
   ]
  },
  {
   "cell_type": "markdown",
   "id": "c32ef496",
   "metadata": {},
   "source": [
    "### Tokenisation - Stopwords - Lemmatisation"
   ]
  },
  {
   "cell_type": "code",
   "execution_count": 24,
   "id": "ae956955",
   "metadata": {},
   "outputs": [],
   "source": [
    "df['Body+Title'] = df['Title']+ ' '+df['Body']"
   ]
  },
  {
   "cell_type": "code",
   "execution_count": 25,
   "id": "2b34648b",
   "metadata": {},
   "outputs": [
    {
     "data": {
      "text/plain": [
       "(27528, 14)"
      ]
     },
     "execution_count": 25,
     "metadata": {},
     "output_type": "execute_result"
    }
   ],
   "source": [
    "df['sentence_title_bow'] = df['Body+Title'].apply(lambda x : transform_bow_fct(x))\n",
    "df['sentence_title_bow_lem'] = df['Body+Title'].apply(lambda x : transform_bow_lem_fct(x))\n",
    "df['sentence__title_dl'] = df['Body+Title'].apply(lambda x : transform_dl_fct(x))\n",
    "df.shape"
   ]
  },
  {
   "cell_type": "code",
   "execution_count": 26,
   "id": "2b6fb74a",
   "metadata": {},
   "outputs": [],
   "source": [
    "len_col(df,\"sentence_title_bow\")\n",
    "len_col(df,\"sentence_title_bow_lem\")\n",
    "len_col(df,\"sentence__title_dl\")"
   ]
  },
  {
   "cell_type": "code",
   "execution_count": 27,
   "id": "cc07b732",
   "metadata": {},
   "outputs": [
    {
     "data": {
      "text/html": [
       "<div>\n",
       "<style scoped>\n",
       "    .dataframe tbody tr th:only-of-type {\n",
       "        vertical-align: middle;\n",
       "    }\n",
       "\n",
       "    .dataframe tbody tr th {\n",
       "        vertical-align: top;\n",
       "    }\n",
       "\n",
       "    .dataframe thead th {\n",
       "        text-align: right;\n",
       "    }\n",
       "</style>\n",
       "<table border=\"1\" class=\"dataframe\">\n",
       "  <thead>\n",
       "    <tr style=\"text-align: right;\">\n",
       "      <th></th>\n",
       "      <th>Title</th>\n",
       "      <th>Body</th>\n",
       "      <th>Tags</th>\n",
       "      <th>Id</th>\n",
       "      <th>Score</th>\n",
       "      <th>ViewCount</th>\n",
       "      <th>FavoriteCount</th>\n",
       "      <th>AnswerCount</th>\n",
       "      <th>len_Title</th>\n",
       "      <th>len_Body</th>\n",
       "      <th>Body+Title</th>\n",
       "      <th>sentence_title_bow</th>\n",
       "      <th>sentence_title_bow_lem</th>\n",
       "      <th>sentence__title_dl</th>\n",
       "      <th>len_sentence_title_bow</th>\n",
       "      <th>len_sentence_title_bow_lem</th>\n",
       "      <th>len_sentence__title_dl</th>\n",
       "    </tr>\n",
       "  </thead>\n",
       "  <tbody>\n",
       "    <tr>\n",
       "      <th>0</th>\n",
       "      <td>Print array without brackets and commas</td>\n",
       "      <td>&lt;p&gt;I'm porting a Hangman game to Android and h...</td>\n",
       "      <td>&lt;java&gt;&lt;android&gt;&lt;arrays&gt;&lt;list&gt;&lt;collections&gt;</td>\n",
       "      <td>4389480</td>\n",
       "      <td>55</td>\n",
       "      <td>192840</td>\n",
       "      <td>17</td>\n",
       "      <td>12</td>\n",
       "      <td>39</td>\n",
       "      <td>1079</td>\n",
       "      <td>Print array without brackets and commas &lt;p&gt;I'm...</td>\n",
       "      <td>print array without brackets commas porting ha...</td>\n",
       "      <td>print array without bracket comma porting hang...</td>\n",
       "      <td>print array without brackets and commas &lt; p &gt; ...</td>\n",
       "      <td>747</td>\n",
       "      <td>738</td>\n",
       "      <td>1231</td>\n",
       "    </tr>\n",
       "    <tr>\n",
       "      <th>1</th>\n",
       "      <td>Allen Holub wrote \"You should never use get/se...</td>\n",
       "      <td>&lt;p&gt;Allen Holub wrote the following,&lt;/p&gt;\\n\\n&lt;bl...</td>\n",
       "      <td>&lt;language-agnostic&gt;&lt;oop&gt;&lt;immutability&gt;&lt;setter&gt;...</td>\n",
       "      <td>996179</td>\n",
       "      <td>51</td>\n",
       "      <td>9946</td>\n",
       "      <td>26</td>\n",
       "      <td>13</td>\n",
       "      <td>74</td>\n",
       "      <td>2665</td>\n",
       "      <td>Allen Holub wrote \"You should never use get/se...</td>\n",
       "      <td>allen holub wrote you never use get set functi...</td>\n",
       "      <td>allen holub wrote you never use get set functi...</td>\n",
       "      <td>allen holub wrote `` you should never use get ...</td>\n",
       "      <td>1856</td>\n",
       "      <td>1818</td>\n",
       "      <td>2904</td>\n",
       "    </tr>\n",
       "    <tr>\n",
       "      <th>2</th>\n",
       "      <td>How do you get a directory listing in C?</td>\n",
       "      <td>&lt;p&gt;How do you scan a directory for folders and...</td>\n",
       "      <td>&lt;c&gt;&lt;file&gt;&lt;directory&gt;&lt;cross-platform&gt;&lt;common-ta...</td>\n",
       "      <td>12489</td>\n",
       "      <td>68</td>\n",
       "      <td>138108</td>\n",
       "      <td>22</td>\n",
       "      <td>9</td>\n",
       "      <td>40</td>\n",
       "      <td>94</td>\n",
       "      <td>How do you get a directory listing in C? &lt;p&gt;Ho...</td>\n",
       "      <td>how get directory listing how scan directory f...</td>\n",
       "      <td>how get directory listing how scan directory f...</td>\n",
       "      <td>how do you get a directory listing in c ? &lt; p ...</td>\n",
       "      <td>80</td>\n",
       "      <td>77</td>\n",
       "      <td>141</td>\n",
       "    </tr>\n",
       "    <tr>\n",
       "      <th>3</th>\n",
       "      <td>Returning DataTables in WCF/.NET</td>\n",
       "      <td>&lt;p&gt;I have a WCF service from which I want to r...</td>\n",
       "      <td>&lt;c#&gt;&lt;.net&gt;&lt;wcf&gt;&lt;web-services&gt;&lt;datatable&gt;</td>\n",
       "      <td>12702</td>\n",
       "      <td>51</td>\n",
       "      <td>56351</td>\n",
       "      <td>12</td>\n",
       "      <td>8</td>\n",
       "      <td>32</td>\n",
       "      <td>1466</td>\n",
       "      <td>Returning DataTables in WCF/.NET &lt;p&gt;I have a W...</td>\n",
       "      <td>returning datatables wcf .net wcf service want...</td>\n",
       "      <td>returning datatables wcf .net wcf service want...</td>\n",
       "      <td>returning datatables in wcf .net &lt; p &gt; i have ...</td>\n",
       "      <td>973</td>\n",
       "      <td>971</td>\n",
       "      <td>1558</td>\n",
       "    </tr>\n",
       "    <tr>\n",
       "      <th>4</th>\n",
       "      <td>Element not visible error (not able to click a...</td>\n",
       "      <td>&lt;p&gt;I want to click on a radio button, appears ...</td>\n",
       "      <td>&lt;javascript&gt;&lt;angularjs&gt;&lt;selenium&gt;&lt;selenium-web...</td>\n",
       "      <td>37809915</td>\n",
       "      <td>43</td>\n",
       "      <td>44978</td>\n",
       "      <td>21</td>\n",
       "      <td>1</td>\n",
       "      <td>56</td>\n",
       "      <td>1767</td>\n",
       "      <td>Element not visible error (not able to click a...</td>\n",
       "      <td>element visible error able click element want ...</td>\n",
       "      <td>element visible error able click element want ...</td>\n",
       "      <td>element not visible error ( not able to click ...</td>\n",
       "      <td>1265</td>\n",
       "      <td>1261</td>\n",
       "      <td>2020</td>\n",
       "    </tr>\n",
       "  </tbody>\n",
       "</table>\n",
       "</div>"
      ],
      "text/plain": [
       "                                               Title  \\\n",
       "0            Print array without brackets and commas   \n",
       "1  Allen Holub wrote \"You should never use get/se...   \n",
       "2           How do you get a directory listing in C?   \n",
       "3                   Returning DataTables in WCF/.NET   \n",
       "4  Element not visible error (not able to click a...   \n",
       "\n",
       "                                                Body  \\\n",
       "0  <p>I'm porting a Hangman game to Android and h...   \n",
       "1  <p>Allen Holub wrote the following,</p>\\n\\n<bl...   \n",
       "2  <p>How do you scan a directory for folders and...   \n",
       "3  <p>I have a WCF service from which I want to r...   \n",
       "4  <p>I want to click on a radio button, appears ...   \n",
       "\n",
       "                                                Tags        Id  Score  \\\n",
       "0         <java><android><arrays><list><collections>   4389480     55   \n",
       "1  <language-agnostic><oop><immutability><setter>...    996179     51   \n",
       "2  <c><file><directory><cross-platform><common-ta...     12489     68   \n",
       "3           <c#><.net><wcf><web-services><datatable>     12702     51   \n",
       "4  <javascript><angularjs><selenium><selenium-web...  37809915     43   \n",
       "\n",
       "   ViewCount  FavoriteCount  AnswerCount  len_Title  len_Body  \\\n",
       "0     192840             17           12         39      1079   \n",
       "1       9946             26           13         74      2665   \n",
       "2     138108             22            9         40        94   \n",
       "3      56351             12            8         32      1466   \n",
       "4      44978             21            1         56      1767   \n",
       "\n",
       "                                          Body+Title  \\\n",
       "0  Print array without brackets and commas <p>I'm...   \n",
       "1  Allen Holub wrote \"You should never use get/se...   \n",
       "2  How do you get a directory listing in C? <p>Ho...   \n",
       "3  Returning DataTables in WCF/.NET <p>I have a W...   \n",
       "4  Element not visible error (not able to click a...   \n",
       "\n",
       "                                  sentence_title_bow  \\\n",
       "0  print array without brackets commas porting ha...   \n",
       "1  allen holub wrote you never use get set functi...   \n",
       "2  how get directory listing how scan directory f...   \n",
       "3  returning datatables wcf .net wcf service want...   \n",
       "4  element visible error able click element want ...   \n",
       "\n",
       "                              sentence_title_bow_lem  \\\n",
       "0  print array without bracket comma porting hang...   \n",
       "1  allen holub wrote you never use get set functi...   \n",
       "2  how get directory listing how scan directory f...   \n",
       "3  returning datatables wcf .net wcf service want...   \n",
       "4  element visible error able click element want ...   \n",
       "\n",
       "                                  sentence__title_dl  len_sentence_title_bow  \\\n",
       "0  print array without brackets and commas < p > ...                     747   \n",
       "1  allen holub wrote `` you should never use get ...                    1856   \n",
       "2  how do you get a directory listing in c ? < p ...                      80   \n",
       "3  returning datatables in wcf .net < p > i have ...                     973   \n",
       "4  element not visible error ( not able to click ...                    1265   \n",
       "\n",
       "   len_sentence_title_bow_lem  len_sentence__title_dl  \n",
       "0                         738                    1231  \n",
       "1                        1818                    2904  \n",
       "2                          77                     141  \n",
       "3                         971                    1558  \n",
       "4                        1261                    2020  "
      ]
     },
     "execution_count": 27,
     "metadata": {},
     "output_type": "execute_result"
    }
   ],
   "source": [
    "df.head()"
   ]
  },
  {
   "cell_type": "code",
   "execution_count": 28,
   "id": "b600b1b8",
   "metadata": {},
   "outputs": [
    {
     "name": "stdout",
     "output_type": "stream",
     "text": [
      "Body+Title            Print array without brackets and commas <p>I'm...\n",
      "sentence_title_bow    print array without brackets commas porting ha...\n",
      "Name: 0, dtype: object\n"
     ]
    }
   ],
   "source": [
    "print(df.loc[0,[\"Body+Title\",\"sentence_title_bow\"]])"
   ]
  },
  {
   "cell_type": "code",
   "execution_count": 29,
   "id": "54a7c313",
   "metadata": {},
   "outputs": [
    {
     "name": "stdout",
     "output_type": "stream",
     "text": [
      "CPU times: user 77 µs, sys: 7 µs, total: 84 µs\n",
      "Wall time: 87.5 µs\n"
     ]
    },
    {
     "data": {
      "text/plain": [
       "'print array without brackets commas porting hangman game android met problems the original java program used console somehow beautify output fits android layout. how print array without brackets commas the array contains slashes gets replaced one one correct letter guessed. using usual code .tostring code function code arraylist code class output formatted like code code want simply print array single code string code fill array using bit code pre code list string publicarray new arraylist int secretwordlength hiddenarray.add secretword.substring publicarray.add code pre and print like pre code textview currentwordview textview findviewbyid r.id.currentword currentwordview.settext publicarray.tostring code pre any help would appreciated.'"
      ]
     },
     "execution_count": 29,
     "metadata": {},
     "output_type": "execute_result"
    }
   ],
   "source": [
    "%%time\n",
    "df.loc[0,\"sentence_title_bow\"]"
   ]
  },
  {
   "cell_type": "code",
   "execution_count": 30,
   "id": "8262adec",
   "metadata": {},
   "outputs": [
    {
     "data": {
      "text/html": [
       "<div>\n",
       "<style scoped>\n",
       "    .dataframe tbody tr th:only-of-type {\n",
       "        vertical-align: middle;\n",
       "    }\n",
       "\n",
       "    .dataframe tbody tr th {\n",
       "        vertical-align: top;\n",
       "    }\n",
       "\n",
       "    .dataframe thead th {\n",
       "        text-align: right;\n",
       "    }\n",
       "</style>\n",
       "<table border=\"1\" class=\"dataframe\">\n",
       "  <thead>\n",
       "    <tr style=\"text-align: right;\">\n",
       "      <th></th>\n",
       "      <th>Title</th>\n",
       "      <th>Body</th>\n",
       "      <th>Tags</th>\n",
       "      <th>Id</th>\n",
       "      <th>Score</th>\n",
       "      <th>ViewCount</th>\n",
       "      <th>FavoriteCount</th>\n",
       "      <th>AnswerCount</th>\n",
       "      <th>len_Title</th>\n",
       "      <th>len_Body</th>\n",
       "      <th>Body+Title</th>\n",
       "      <th>sentence_title_bow</th>\n",
       "      <th>sentence_title_bow_lem</th>\n",
       "      <th>sentence__title_dl</th>\n",
       "      <th>len_sentence_title_bow</th>\n",
       "      <th>len_sentence_title_bow_lem</th>\n",
       "      <th>len_sentence__title_dl</th>\n",
       "    </tr>\n",
       "  </thead>\n",
       "  <tbody>\n",
       "    <tr>\n",
       "      <th>0</th>\n",
       "      <td>Print array without brackets and commas</td>\n",
       "      <td>&lt;p&gt;I'm porting a Hangman game to Android and h...</td>\n",
       "      <td>&lt;java&gt;&lt;android&gt;&lt;arrays&gt;&lt;list&gt;&lt;collections&gt;</td>\n",
       "      <td>4389480</td>\n",
       "      <td>55</td>\n",
       "      <td>192840</td>\n",
       "      <td>17</td>\n",
       "      <td>12</td>\n",
       "      <td>39</td>\n",
       "      <td>1079</td>\n",
       "      <td>Print array without brackets and commas &lt;p&gt;I'm...</td>\n",
       "      <td>print array without brackets commas porting ha...</td>\n",
       "      <td>print array without bracket comma porting hang...</td>\n",
       "      <td>print array without brackets and commas &lt; p &gt; ...</td>\n",
       "      <td>747</td>\n",
       "      <td>738</td>\n",
       "      <td>1231</td>\n",
       "    </tr>\n",
       "    <tr>\n",
       "      <th>1</th>\n",
       "      <td>Allen Holub wrote \"You should never use get/se...</td>\n",
       "      <td>&lt;p&gt;Allen Holub wrote the following,&lt;/p&gt;\\n\\n&lt;bl...</td>\n",
       "      <td>&lt;language-agnostic&gt;&lt;oop&gt;&lt;immutability&gt;&lt;setter&gt;...</td>\n",
       "      <td>996179</td>\n",
       "      <td>51</td>\n",
       "      <td>9946</td>\n",
       "      <td>26</td>\n",
       "      <td>13</td>\n",
       "      <td>74</td>\n",
       "      <td>2665</td>\n",
       "      <td>Allen Holub wrote \"You should never use get/se...</td>\n",
       "      <td>allen holub wrote you never use get set functi...</td>\n",
       "      <td>allen holub wrote you never use get set functi...</td>\n",
       "      <td>allen holub wrote `` you should never use get ...</td>\n",
       "      <td>1856</td>\n",
       "      <td>1818</td>\n",
       "      <td>2904</td>\n",
       "    </tr>\n",
       "    <tr>\n",
       "      <th>2</th>\n",
       "      <td>How do you get a directory listing in C?</td>\n",
       "      <td>&lt;p&gt;How do you scan a directory for folders and...</td>\n",
       "      <td>&lt;c&gt;&lt;file&gt;&lt;directory&gt;&lt;cross-platform&gt;&lt;common-ta...</td>\n",
       "      <td>12489</td>\n",
       "      <td>68</td>\n",
       "      <td>138108</td>\n",
       "      <td>22</td>\n",
       "      <td>9</td>\n",
       "      <td>40</td>\n",
       "      <td>94</td>\n",
       "      <td>How do you get a directory listing in C? &lt;p&gt;Ho...</td>\n",
       "      <td>how get directory listing how scan directory f...</td>\n",
       "      <td>how get directory listing how scan directory f...</td>\n",
       "      <td>how do you get a directory listing in c ? &lt; p ...</td>\n",
       "      <td>80</td>\n",
       "      <td>77</td>\n",
       "      <td>141</td>\n",
       "    </tr>\n",
       "    <tr>\n",
       "      <th>3</th>\n",
       "      <td>Returning DataTables in WCF/.NET</td>\n",
       "      <td>&lt;p&gt;I have a WCF service from which I want to r...</td>\n",
       "      <td>&lt;c#&gt;&lt;.net&gt;&lt;wcf&gt;&lt;web-services&gt;&lt;datatable&gt;</td>\n",
       "      <td>12702</td>\n",
       "      <td>51</td>\n",
       "      <td>56351</td>\n",
       "      <td>12</td>\n",
       "      <td>8</td>\n",
       "      <td>32</td>\n",
       "      <td>1466</td>\n",
       "      <td>Returning DataTables in WCF/.NET &lt;p&gt;I have a W...</td>\n",
       "      <td>returning datatables wcf .net wcf service want...</td>\n",
       "      <td>returning datatables wcf .net wcf service want...</td>\n",
       "      <td>returning datatables in wcf .net &lt; p &gt; i have ...</td>\n",
       "      <td>973</td>\n",
       "      <td>971</td>\n",
       "      <td>1558</td>\n",
       "    </tr>\n",
       "    <tr>\n",
       "      <th>4</th>\n",
       "      <td>Element not visible error (not able to click a...</td>\n",
       "      <td>&lt;p&gt;I want to click on a radio button, appears ...</td>\n",
       "      <td>&lt;javascript&gt;&lt;angularjs&gt;&lt;selenium&gt;&lt;selenium-web...</td>\n",
       "      <td>37809915</td>\n",
       "      <td>43</td>\n",
       "      <td>44978</td>\n",
       "      <td>21</td>\n",
       "      <td>1</td>\n",
       "      <td>56</td>\n",
       "      <td>1767</td>\n",
       "      <td>Element not visible error (not able to click a...</td>\n",
       "      <td>element visible error able click element want ...</td>\n",
       "      <td>element visible error able click element want ...</td>\n",
       "      <td>element not visible error ( not able to click ...</td>\n",
       "      <td>1265</td>\n",
       "      <td>1261</td>\n",
       "      <td>2020</td>\n",
       "    </tr>\n",
       "  </tbody>\n",
       "</table>\n",
       "</div>"
      ],
      "text/plain": [
       "                                               Title  \\\n",
       "0            Print array without brackets and commas   \n",
       "1  Allen Holub wrote \"You should never use get/se...   \n",
       "2           How do you get a directory listing in C?   \n",
       "3                   Returning DataTables in WCF/.NET   \n",
       "4  Element not visible error (not able to click a...   \n",
       "\n",
       "                                                Body  \\\n",
       "0  <p>I'm porting a Hangman game to Android and h...   \n",
       "1  <p>Allen Holub wrote the following,</p>\\n\\n<bl...   \n",
       "2  <p>How do you scan a directory for folders and...   \n",
       "3  <p>I have a WCF service from which I want to r...   \n",
       "4  <p>I want to click on a radio button, appears ...   \n",
       "\n",
       "                                                Tags        Id  Score  \\\n",
       "0         <java><android><arrays><list><collections>   4389480     55   \n",
       "1  <language-agnostic><oop><immutability><setter>...    996179     51   \n",
       "2  <c><file><directory><cross-platform><common-ta...     12489     68   \n",
       "3           <c#><.net><wcf><web-services><datatable>     12702     51   \n",
       "4  <javascript><angularjs><selenium><selenium-web...  37809915     43   \n",
       "\n",
       "   ViewCount  FavoriteCount  AnswerCount  len_Title  len_Body  \\\n",
       "0     192840             17           12         39      1079   \n",
       "1       9946             26           13         74      2665   \n",
       "2     138108             22            9         40        94   \n",
       "3      56351             12            8         32      1466   \n",
       "4      44978             21            1         56      1767   \n",
       "\n",
       "                                          Body+Title  \\\n",
       "0  Print array without brackets and commas <p>I'm...   \n",
       "1  Allen Holub wrote \"You should never use get/se...   \n",
       "2  How do you get a directory listing in C? <p>Ho...   \n",
       "3  Returning DataTables in WCF/.NET <p>I have a W...   \n",
       "4  Element not visible error (not able to click a...   \n",
       "\n",
       "                                  sentence_title_bow  \\\n",
       "0  print array without brackets commas porting ha...   \n",
       "1  allen holub wrote you never use get set functi...   \n",
       "2  how get directory listing how scan directory f...   \n",
       "3  returning datatables wcf .net wcf service want...   \n",
       "4  element visible error able click element want ...   \n",
       "\n",
       "                              sentence_title_bow_lem  \\\n",
       "0  print array without bracket comma porting hang...   \n",
       "1  allen holub wrote you never use get set functi...   \n",
       "2  how get directory listing how scan directory f...   \n",
       "3  returning datatables wcf .net wcf service want...   \n",
       "4  element visible error able click element want ...   \n",
       "\n",
       "                                  sentence__title_dl  len_sentence_title_bow  \\\n",
       "0  print array without brackets and commas < p > ...                     747   \n",
       "1  allen holub wrote `` you should never use get ...                    1856   \n",
       "2  how do you get a directory listing in c ? < p ...                      80   \n",
       "3  returning datatables in wcf .net < p > i have ...                     973   \n",
       "4  element not visible error ( not able to click ...                    1265   \n",
       "\n",
       "   len_sentence_title_bow_lem  len_sentence__title_dl  \n",
       "0                         738                    1231  \n",
       "1                        1818                    2904  \n",
       "2                          77                     141  \n",
       "3                         971                    1558  \n",
       "4                        1261                    2020  "
      ]
     },
     "execution_count": 30,
     "metadata": {},
     "output_type": "execute_result"
    }
   ],
   "source": [
    "df.head()"
   ]
  },
  {
   "cell_type": "markdown",
   "id": "3e14491a",
   "metadata": {},
   "source": [
    "### Calcul du gain du nettoyage"
   ]
  },
  {
   "cell_type": "code",
   "execution_count": 31,
   "id": "a45aa611",
   "metadata": {},
   "outputs": [],
   "source": [
    "df['gain_%'] = round((1-df['len_sentence_title_bow_lem']/df['len_Body'])*100)"
   ]
  },
  {
   "cell_type": "code",
   "execution_count": 32,
   "id": "34b245de",
   "metadata": {},
   "outputs": [
    {
     "data": {
      "text/html": [
       "<div>\n",
       "<style scoped>\n",
       "    .dataframe tbody tr th:only-of-type {\n",
       "        vertical-align: middle;\n",
       "    }\n",
       "\n",
       "    .dataframe tbody tr th {\n",
       "        vertical-align: top;\n",
       "    }\n",
       "\n",
       "    .dataframe thead th {\n",
       "        text-align: right;\n",
       "    }\n",
       "</style>\n",
       "<table border=\"1\" class=\"dataframe\">\n",
       "  <thead>\n",
       "    <tr style=\"text-align: right;\">\n",
       "      <th></th>\n",
       "      <th>Title</th>\n",
       "      <th>Body</th>\n",
       "      <th>Tags</th>\n",
       "      <th>Id</th>\n",
       "      <th>Score</th>\n",
       "      <th>ViewCount</th>\n",
       "      <th>FavoriteCount</th>\n",
       "      <th>AnswerCount</th>\n",
       "      <th>len_Title</th>\n",
       "      <th>len_Body</th>\n",
       "      <th>Body+Title</th>\n",
       "      <th>sentence_title_bow</th>\n",
       "      <th>sentence_title_bow_lem</th>\n",
       "      <th>sentence__title_dl</th>\n",
       "      <th>len_sentence_title_bow</th>\n",
       "      <th>len_sentence_title_bow_lem</th>\n",
       "      <th>len_sentence__title_dl</th>\n",
       "      <th>gain_%</th>\n",
       "    </tr>\n",
       "  </thead>\n",
       "  <tbody>\n",
       "    <tr>\n",
       "      <th>0</th>\n",
       "      <td>Print array without brackets and commas</td>\n",
       "      <td>&lt;p&gt;I'm porting a Hangman game to Android and h...</td>\n",
       "      <td>&lt;java&gt;&lt;android&gt;&lt;arrays&gt;&lt;list&gt;&lt;collections&gt;</td>\n",
       "      <td>4389480</td>\n",
       "      <td>55</td>\n",
       "      <td>192840</td>\n",
       "      <td>17</td>\n",
       "      <td>12</td>\n",
       "      <td>39</td>\n",
       "      <td>1079</td>\n",
       "      <td>Print array without brackets and commas &lt;p&gt;I'm...</td>\n",
       "      <td>print array without brackets commas porting ha...</td>\n",
       "      <td>print array without bracket comma porting hang...</td>\n",
       "      <td>print array without brackets and commas &lt; p &gt; ...</td>\n",
       "      <td>747</td>\n",
       "      <td>738</td>\n",
       "      <td>1231</td>\n",
       "      <td>32.0</td>\n",
       "    </tr>\n",
       "    <tr>\n",
       "      <th>1</th>\n",
       "      <td>Allen Holub wrote \"You should never use get/se...</td>\n",
       "      <td>&lt;p&gt;Allen Holub wrote the following,&lt;/p&gt;\\n\\n&lt;bl...</td>\n",
       "      <td>&lt;language-agnostic&gt;&lt;oop&gt;&lt;immutability&gt;&lt;setter&gt;...</td>\n",
       "      <td>996179</td>\n",
       "      <td>51</td>\n",
       "      <td>9946</td>\n",
       "      <td>26</td>\n",
       "      <td>13</td>\n",
       "      <td>74</td>\n",
       "      <td>2665</td>\n",
       "      <td>Allen Holub wrote \"You should never use get/se...</td>\n",
       "      <td>allen holub wrote you never use get set functi...</td>\n",
       "      <td>allen holub wrote you never use get set functi...</td>\n",
       "      <td>allen holub wrote `` you should never use get ...</td>\n",
       "      <td>1856</td>\n",
       "      <td>1818</td>\n",
       "      <td>2904</td>\n",
       "      <td>32.0</td>\n",
       "    </tr>\n",
       "    <tr>\n",
       "      <th>2</th>\n",
       "      <td>How do you get a directory listing in C?</td>\n",
       "      <td>&lt;p&gt;How do you scan a directory for folders and...</td>\n",
       "      <td>&lt;c&gt;&lt;file&gt;&lt;directory&gt;&lt;cross-platform&gt;&lt;common-ta...</td>\n",
       "      <td>12489</td>\n",
       "      <td>68</td>\n",
       "      <td>138108</td>\n",
       "      <td>22</td>\n",
       "      <td>9</td>\n",
       "      <td>40</td>\n",
       "      <td>94</td>\n",
       "      <td>How do you get a directory listing in C? &lt;p&gt;Ho...</td>\n",
       "      <td>how get directory listing how scan directory f...</td>\n",
       "      <td>how get directory listing how scan directory f...</td>\n",
       "      <td>how do you get a directory listing in c ? &lt; p ...</td>\n",
       "      <td>80</td>\n",
       "      <td>77</td>\n",
       "      <td>141</td>\n",
       "      <td>18.0</td>\n",
       "    </tr>\n",
       "    <tr>\n",
       "      <th>3</th>\n",
       "      <td>Returning DataTables in WCF/.NET</td>\n",
       "      <td>&lt;p&gt;I have a WCF service from which I want to r...</td>\n",
       "      <td>&lt;c#&gt;&lt;.net&gt;&lt;wcf&gt;&lt;web-services&gt;&lt;datatable&gt;</td>\n",
       "      <td>12702</td>\n",
       "      <td>51</td>\n",
       "      <td>56351</td>\n",
       "      <td>12</td>\n",
       "      <td>8</td>\n",
       "      <td>32</td>\n",
       "      <td>1466</td>\n",
       "      <td>Returning DataTables in WCF/.NET &lt;p&gt;I have a W...</td>\n",
       "      <td>returning datatables wcf .net wcf service want...</td>\n",
       "      <td>returning datatables wcf .net wcf service want...</td>\n",
       "      <td>returning datatables in wcf .net &lt; p &gt; i have ...</td>\n",
       "      <td>973</td>\n",
       "      <td>971</td>\n",
       "      <td>1558</td>\n",
       "      <td>34.0</td>\n",
       "    </tr>\n",
       "    <tr>\n",
       "      <th>4</th>\n",
       "      <td>Element not visible error (not able to click a...</td>\n",
       "      <td>&lt;p&gt;I want to click on a radio button, appears ...</td>\n",
       "      <td>&lt;javascript&gt;&lt;angularjs&gt;&lt;selenium&gt;&lt;selenium-web...</td>\n",
       "      <td>37809915</td>\n",
       "      <td>43</td>\n",
       "      <td>44978</td>\n",
       "      <td>21</td>\n",
       "      <td>1</td>\n",
       "      <td>56</td>\n",
       "      <td>1767</td>\n",
       "      <td>Element not visible error (not able to click a...</td>\n",
       "      <td>element visible error able click element want ...</td>\n",
       "      <td>element visible error able click element want ...</td>\n",
       "      <td>element not visible error ( not able to click ...</td>\n",
       "      <td>1265</td>\n",
       "      <td>1261</td>\n",
       "      <td>2020</td>\n",
       "      <td>29.0</td>\n",
       "    </tr>\n",
       "  </tbody>\n",
       "</table>\n",
       "</div>"
      ],
      "text/plain": [
       "                                               Title  \\\n",
       "0            Print array without brackets and commas   \n",
       "1  Allen Holub wrote \"You should never use get/se...   \n",
       "2           How do you get a directory listing in C?   \n",
       "3                   Returning DataTables in WCF/.NET   \n",
       "4  Element not visible error (not able to click a...   \n",
       "\n",
       "                                                Body  \\\n",
       "0  <p>I'm porting a Hangman game to Android and h...   \n",
       "1  <p>Allen Holub wrote the following,</p>\\n\\n<bl...   \n",
       "2  <p>How do you scan a directory for folders and...   \n",
       "3  <p>I have a WCF service from which I want to r...   \n",
       "4  <p>I want to click on a radio button, appears ...   \n",
       "\n",
       "                                                Tags        Id  Score  \\\n",
       "0         <java><android><arrays><list><collections>   4389480     55   \n",
       "1  <language-agnostic><oop><immutability><setter>...    996179     51   \n",
       "2  <c><file><directory><cross-platform><common-ta...     12489     68   \n",
       "3           <c#><.net><wcf><web-services><datatable>     12702     51   \n",
       "4  <javascript><angularjs><selenium><selenium-web...  37809915     43   \n",
       "\n",
       "   ViewCount  FavoriteCount  AnswerCount  len_Title  len_Body  \\\n",
       "0     192840             17           12         39      1079   \n",
       "1       9946             26           13         74      2665   \n",
       "2     138108             22            9         40        94   \n",
       "3      56351             12            8         32      1466   \n",
       "4      44978             21            1         56      1767   \n",
       "\n",
       "                                          Body+Title  \\\n",
       "0  Print array without brackets and commas <p>I'm...   \n",
       "1  Allen Holub wrote \"You should never use get/se...   \n",
       "2  How do you get a directory listing in C? <p>Ho...   \n",
       "3  Returning DataTables in WCF/.NET <p>I have a W...   \n",
       "4  Element not visible error (not able to click a...   \n",
       "\n",
       "                                  sentence_title_bow  \\\n",
       "0  print array without brackets commas porting ha...   \n",
       "1  allen holub wrote you never use get set functi...   \n",
       "2  how get directory listing how scan directory f...   \n",
       "3  returning datatables wcf .net wcf service want...   \n",
       "4  element visible error able click element want ...   \n",
       "\n",
       "                              sentence_title_bow_lem  \\\n",
       "0  print array without bracket comma porting hang...   \n",
       "1  allen holub wrote you never use get set functi...   \n",
       "2  how get directory listing how scan directory f...   \n",
       "3  returning datatables wcf .net wcf service want...   \n",
       "4  element visible error able click element want ...   \n",
       "\n",
       "                                  sentence__title_dl  len_sentence_title_bow  \\\n",
       "0  print array without brackets and commas < p > ...                     747   \n",
       "1  allen holub wrote `` you should never use get ...                    1856   \n",
       "2  how do you get a directory listing in c ? < p ...                      80   \n",
       "3  returning datatables in wcf .net < p > i have ...                     973   \n",
       "4  element not visible error ( not able to click ...                    1265   \n",
       "\n",
       "   len_sentence_title_bow_lem  len_sentence__title_dl  gain_%  \n",
       "0                         738                    1231    32.0  \n",
       "1                        1818                    2904    32.0  \n",
       "2                          77                     141    18.0  \n",
       "3                         971                    1558    34.0  \n",
       "4                        1261                    2020    29.0  "
      ]
     },
     "execution_count": 32,
     "metadata": {},
     "output_type": "execute_result"
    }
   ],
   "source": [
    "df.head()"
   ]
  },
  {
   "cell_type": "code",
   "execution_count": 33,
   "id": "bad9c75c",
   "metadata": {
    "scrolled": true
   },
   "outputs": [
    {
     "name": "stdout",
     "output_type": "stream",
     "text": [
      "In order : int64, obj, float64\n"
     ]
    },
    {
     "data": {
      "text/plain": [
       "(['Id',\n",
       "  'Score',\n",
       "  'ViewCount',\n",
       "  'FavoriteCount',\n",
       "  'AnswerCount',\n",
       "  'len_Title',\n",
       "  'len_Body',\n",
       "  'len_sentence_title_bow',\n",
       "  'len_sentence_title_bow_lem',\n",
       "  'len_sentence__title_dl'],\n",
       " ['Title',\n",
       "  'Body',\n",
       "  'Tags',\n",
       "  'Body+Title',\n",
       "  'sentence_title_bow',\n",
       "  'sentence_title_bow_lem',\n",
       "  'sentence__title_dl'],\n",
       " ['gain_%'])"
      ]
     },
     "execution_count": 33,
     "metadata": {},
     "output_type": "execute_result"
    }
   ],
   "source": [
    "tup_type(df)"
   ]
  },
  {
   "cell_type": "code",
   "execution_count": 34,
   "id": "d7ff3d5c",
   "metadata": {
    "scrolled": false
   },
   "outputs": [
    {
     "name": "stdout",
     "output_type": "stream",
     "text": [
      "In order : int64, obj, float64\n"
     ]
    },
    {
     "data": {
      "image/png": "[encoded data removed]",
      "text/plain": [
       "<Figure size 1152x432 with 2 Axes>"
      ]
     },
     "metadata": {},
     "output_type": "display_data"
    }
   ],
   "source": [
    "sb.set(rc={'figure.figsize':(16,6)})\n",
    "for i in tup_type(df)[2]:\n",
    "    fig, axes = plt.subplots(1,2)\n",
    "    sb.boxplot(x= df.loc[:,i], ax = axes[0])\n",
    "    sb.histplot(df.loc[:,i], kde = True, ax = axes[1])\n",
    "    plt.show()"
   ]
  },
  {
   "cell_type": "markdown",
   "id": "e2175c3d",
   "metadata": {},
   "source": [
    "### Analyse bivariée"
   ]
  },
  {
   "cell_type": "code",
   "execution_count": 35,
   "id": "f16ebb4f",
   "metadata": {},
   "outputs": [
    {
     "data": {
      "image/png": "[encoded data removed]",
      "text/plain": [
       "<Figure size 1152x720 with 2 Axes>"
      ]
     },
     "metadata": {},
     "output_type": "display_data"
    }
   ],
   "source": [
    "sb.set(rc={'figure.figsize':(16,10)})\n",
    "sb.heatmap(df.corr(),annot = True, vmin = -1, vmax = 1)\n",
    "plt.show()"
   ]
  },
  {
   "cell_type": "markdown",
   "id": "93189b26",
   "metadata": {},
   "source": [
    "### Fréquence des mots les plus utilisés dans les textes (après nettoyage)"
   ]
  },
  {
   "cell_type": "code",
   "execution_count": 36,
   "id": "60701525",
   "metadata": {},
   "outputs": [
    {
     "name": "stdout",
     "output_type": "stream",
     "text": [
      "CPU times: user 184 ms, sys: 56.1 ms, total: 240 ms\n",
      "Wall time: 239 ms\n"
     ]
    }
   ],
   "source": [
    "%%time\n",
    "w = []\n",
    "for i in range(len(df)):\n",
    "    w.append(df['sentence_title_bow'][i].split())"
   ]
  },
  {
   "cell_type": "code",
   "execution_count": 37,
   "id": "9a5f26cc",
   "metadata": {
    "scrolled": true
   },
   "outputs": [
    {
     "name": "stdout",
     "output_type": "stream",
     "text": [
      "[['code' '176152']\n",
      " ['pre' '63651']\n",
      " ['strong' '32703']\n",
      " ['using' '20171']\n",
      " ['href=' '19746']\n",
      " [\"n't\" '17761']\n",
      " ['like' '15352']\n",
      " ['quot' '15316']\n",
      " ['use' '15279']\n",
      " ['the' '14333']\n",
      " ['new' '14320']\n",
      " ['how' '13166']\n",
      " ['rel=' '12949']\n",
      " ['get' '12929']\n",
      " ['noreferrer' '12683']\n",
      " ['file' '12540']\n",
      " ['data' '12480']\n",
      " ['would' '11825']\n",
      " ['public' '10868']\n",
      " ['android' '10669']\n",
      " ['error' '10584']\n",
      " ['string' '10413']\n",
      " ['want' '9613']\n",
      " ['way' '9591']\n",
      " ['return' '9570']\n",
      " ['class' '9565']\n",
      " ['one' '9435']\n",
      " ['...' '9095']\n",
      " ['function' '8950']\n",
      " ['app' '8385']\n",
      " ['int' '8354']\n",
      " ['what' '7843']\n",
      " ['user' '7697']\n",
      " ['amp' '7615']\n",
      " ['need' '7530']\n",
      " ['set' '7325']\n",
      " ['this' '7275']\n",
      " [\"'ve\" '7207']\n",
      " ['server' '6710']\n",
      " ['know' '6602']\n",
      " ['application' '6568']\n",
      " ['image' '6559']\n",
      " ['blockquote' '6475']\n",
      " ['also' '6272']\n",
      " ['time' '6150']\n",
      " ['var' '6101']\n",
      " ['work' '5962']\n",
      " ['following' '5945']\n",
      " ['method' '5943']\n",
      " ['name' '5924']\n",
      " ['example' '5884']\n",
      " ['import' '5848']\n",
      " ['type' '5693']\n",
      " ['could' '5577']\n",
      " ['problem' '5545']\n",
      " ['object' '5493']\n",
      " ['void' '5492']\n",
      " ['python' '5248']\n",
      " ['value' '5243']\n",
      " ['create' '5240']\n",
      " ['list' '5130']\n",
      " ['but' '5091']\n",
      " ['questions' '5084']\n",
      " ['make' '5069']\n",
      " ['tried' '5028']\n",
      " ['trying' '5020']\n",
      " ['something' '5014']\n",
      " ['run' '4969']\n",
      " ['question' '4968']\n",
      " ['text' '4912']\n",
      " ['find' '4882']\n",
      " ['see' '4742']\n",
      " ['true' '4705']\n",
      " ['project' '4675']\n",
      " ['view' '4637']\n",
      " ['test' '4573']\n",
      " ['version' '4542']\n",
      " ['found' '4437']\n",
      " ['used' '4435']\n",
      " ['line' '4408']\n",
      " ['files' '4383']\n",
      " ['i.stack.imgur.com' '4347']\n",
      " ['add' '4327']\n",
      " ['java' '4272']\n",
      " ['web' '4258']\n",
      " ['stackoverflow.com' '4232']\n",
      " ['api' '4220']\n",
      " ['div' '4202']\n",
      " ['however' '4151']\n",
      " ['null' '4128']\n",
      " ['library' '4102']\n",
      " ['first' '4102']\n",
      " ['private' '4068']\n",
      " ['two' '4059']\n",
      " ['class=' '3945']\n",
      " ['page' '3938']\n",
      " ['without' '3881']\n",
      " ['img' '3866']\n",
      " ['src=' '3864']\n",
      " ['update' '3848']\n",
      " ['seems' '3783']\n",
      " ['possible' '3656']\n",
      " ['different' '3652']\n",
      " ['array' '3642']\n",
      " ['build' '3612']\n",
      " ['static' '3579']\n",
      " ['key' '3543']\n",
      " ['works' '3519']\n",
      " ['working' '3466']\n",
      " ['call' '3443']\n",
      " ['table' '3428']\n",
      " ['case' '3414']\n",
      " ['database' '3412']\n",
      " ['when' '3404']\n",
      " ['read' '3383']\n",
      " ['request' '3363']\n",
      " ['url' '3351']\n",
      " ['for' '3332']\n",
      " ['still' '3304']\n",
      " ['override' '3302']\n",
      " ['alt=' '3300']\n",
      " ['here' '3281']\n",
      " ['solution' '3266']\n",
      " ['try' '3255']\n",
      " ['help' '3230']\n",
      " ['windows' '3214']\n",
      " ['std' '3193']\n",
      " ['and' '3170']\n",
      " ['html' '3161']\n",
      " ['main' '3160']\n",
      " ['false' '3121']\n",
      " ['ios' '3108']\n",
      " ['running' '3097']\n",
      " ['access' '3062']\n",
      " ['able' '3055']\n",
      " ['script' '3050']\n",
      " ['lib' '3023']\n",
      " ['result' '2959']\n",
      " ['end' '2945']\n",
      " ['command' '2914']\n",
      " ['change' '2909']\n",
      " ['even' '2903']\n",
      " ['simple' '2895']\n",
      " ['right' '2894']\n",
      " ['javascript' '2880']\n",
      " ['default' '2843']\n",
      " ['can' '2834']\n",
      " ['memory' '2833']\n",
      " ['another' '2825']\n",
      " ['edit' '2817']\n",
      " ['size' '2802']\n",
      " ['client' '2800']\n",
      " ['input' '2799']\n",
      " ['users' '2778']\n",
      " ['spring' '2766']\n",
      " ['include' '2763']\n",
      " ['else' '2739']\n",
      " ['number' '2730']\n",
      " ['output' '2715']\n",
      " ['model' '2691']\n",
      " ['values' '2685']\n",
      " ['thread' '2678']\n",
      " ['since' '2670']\n",
      " ['best' '2670']\n",
      " ['really' '2668']\n",
      " ['local' '2658']\n",
      " ['path' '2628']\n",
      " ['content' '2623']\n",
      " ['message' '2621']\n",
      " ['post' '2607']\n",
      " ['button' '2578']\n",
      " ['anyone' '2576']\n",
      " ['system' '2562']\n",
      " ['thanks' '2556']\n",
      " ['source' '2539']\n",
      " ['json' '2538']\n",
      " ['form' '2528']\n",
      " ['context' '2522']\n",
      " ['instead' '2517']\n",
      " ['many' '2507']\n",
      " ['any' '2497']\n",
      " ['name=' '2493']\n",
      " ['install' '2492']\n",
      " ['usr' '2483']\n",
      " ['understand' '2476']\n",
      " ['service' '2475']\n",
      " ['self' '2417']\n",
      " ['looking' '2414']\n",
      " ['start' '2392']\n",
      " ['based' '2390']\n",
      " ['sure' '2390']\n",
      " ['good' '2369']\n",
      " ['please' '2363']\n",
      " ['getting' '2358']\n",
      " ['write' '2351']\n",
      " ['exception' '2346']\n",
      " ['think' '2338']\n",
      " ['point' '2317']\n",
      " ['print' '2295']\n",
      " ['php' '2288']\n",
      " ['let' '2285']\n",
      " ['description' '2279']\n",
      " ['already' '2269']\n",
      " ['google' '2250']\n",
      " ['difference' '2247']\n",
      " ['long' '2224']\n",
      " ['process' '2211']\n",
      " ['bit' '2205']\n",
      " ['better' '2199']\n",
      " ['multiple' '2182']\n",
      " ['answer' '2152']\n",
      " ['const' '2152']\n",
      " ['reference' '2148']\n",
      " ['item' '2142']\n",
      " ['much' '2131']\n",
      " ['issue' '2119']\n",
      " ['select' '2118']\n",
      " ['done' '2106']\n",
      " ['why' '2103']\n",
      " ['event' '2092']\n",
      " ['enter' '2084']\n",
      " ['well' '2075']\n",
      " ['etc' '2072']\n",
      " ['every' '2062']\n",
      " ['called' '2056']\n",
      " ['nofollow' '2055']\n",
      " ['created' '2053']\n",
      " ['custom' '2034']\n",
      " ['github.com' '2022']\n",
      " ['open' '2016']\n",
      " ['current' '2004']\n",
      " ['sql' '1998']\n",
      " ['may' '1996']\n",
      " ['query' '1991']\n",
      " ['framework' '1988']\n",
      " ['back' '1984']\n",
      " ['id=' '1981']\n",
      " ['now' '1971']\n",
      " ['module' '1966']\n",
      " ['property' '1965']\n",
      " ['seem' '1957']\n",
      " ['connection' '1949']\n",
      " ['date' '1947']\n",
      " ['load' '1946']\n",
      " ['inside' '1930']\n",
      " ['response' '1927']\n",
      " ['link' '1921']\n",
      " ['order' '1919']\n",
      " ['objects' '1910']\n",
      " ['methods' '1910']\n",
      " ['controller' '1907']\n",
      " ['store' '1900']\n",
      " ['jquery' '1898']\n",
      " ['ruby' '1898']\n",
      " ['color' '1891']\n",
      " ['background' '1864']\n",
      " ['information' '1855']\n",
      " ['program' '1843']\n",
      " ['similar' '1841']\n",
      " ['core' '1836']\n",
      " ['def' '1833']\n",
      " ['check' '1829']\n",
      " ['git' '1825']\n",
      " ['single' '1820']\n",
      " ['correct' '1814']\n",
      " ['performance' '1808']\n",
      " ['does' '1805']\n",
      " ['package' '1804']\n",
      " ['support' '1791']\n",
      " ['option' '1785']\n",
      " ['fine' '1783']\n",
      " ['got' '1779']\n",
      " ['linux' '1770']\n",
      " ['column' '1764']\n",
      " ['via' '1762']\n",
      " ['results' '1759']\n",
      " ['xml' '1753']\n",
      " ['compile' '1751']\n",
      " ['currently' '1745']\n",
      " ['show' '1737']\n",
      " ['password' '1727']\n",
      " ['instance' '1723']\n",
      " ['looks' '1720']\n",
      " ['wrong' '1715']\n",
      " ['documentation' '1712']\n",
      " ['there' '1701']\n",
      " ['uses' '1694']\n",
      " ['implement' '1686']\n",
      " ['studio' '1683']\n",
      " ['far' '1674']\n",
      " ['failed' '1674']\n",
      " ['specific' '1665']\n",
      " ['note' '1665']\n",
      " ['task' '1665']\n",
      " ['element' '1652']\n",
      " ['token' '1649']\n",
      " ['around' '1647']\n",
      " ['idea' '1642']\n",
      " ['control' '1642']\n",
      " ['directory' '1638']\n",
      " ['bar' '1638']\n",
      " ['browser' '1630']\n",
      " ['images' '1626']\n",
      " ['none' '1623']\n",
      " ['always' '1621']\n",
      " ['configuration' '1616']\n",
      " ['index' '1614']\n",
      " ['implementation' '1607']\n",
      " ['.net' '1602']\n",
      " ['iphone' '1601']\n",
      " ['site' '1600']\n",
      " ['variable' '1600']\n",
      " ['stack' '1598']\n",
      " ['node' '1597']\n",
      " ['say' '1596']\n",
      " ['within' '1596']\n",
      " ['info' '1593']\n",
      " ['xcode' '1591']\n",
      " ['must' '1576']\n",
      " ['template' '1568']\n",
      " ['look' '1559']\n",
      " ['added' '1559']\n",
      " ['entity' '1557']\n",
      " ['given' '1556']\n",
      " ['part' '1551']\n",
      " ['video' '1546']\n",
      " ['second' '1546']\n",
      " ['search' '1541']\n",
      " ['lot' '1537']\n",
      " ['convert' '1537']\n",
      " ['non' '1535']\n",
      " ['bin' '1531']\n",
      " ['debug' '1528']\n",
      " ['screen' '1524']\n",
      " ['functions' '1523']\n",
      " ['body' '1523']\n",
      " ['things' '1519']\n",
      " ['classes' '1515']\n",
      " ['installed' '1515']\n",
      " ['device' '1508']\n",
      " ['final' '1507']\n",
      " ['lang' '1507']\n",
      " ['foo' '1505']\n",
      " ['options' '1505']\n",
      " ['display' '1501']\n",
      " ['might' '1498']\n",
      " ['someone' '1492']\n",
      " ['mvc' '1491']\n",
      " ['actually' '1491']\n",
      " ['interface' '1489']\n",
      " ['char' '1489']\n",
      " ['put' '1488']\n",
      " ['send' '1469']\n",
      " ['pass' '1461']\n",
      " ['map' '1459']\n",
      " ['creating' '1445']\n",
      " ['thing' '1441']\n",
      " ['available' '1440']\n",
      " ['css' '1433']\n",
      " ['take' '1427']\n",
      " ['style' '1426']\n",
      " ['prettyprint' '1415']\n",
      " ['top' '1414']\n",
      " ['save' '1411']\n",
      " ['format' '1411']\n",
      " ['from' '1410']\n",
      " ['loop' '1409']\n",
      " ['asp.net' '1406']\n",
      " ['visual' '1403']\n",
      " ['anything' '1398']\n",
      " ['side' '1397']\n",
      " ['gems' '1396']\n",
      " ['docs' '1394']\n",
      " ['state' '1394']\n",
      " ['float' '1393']\n",
      " ['header' '1391']\n",
      " ['home' '1388']\n",
      " ['double' '1380']\n",
      " ['approach' '1379']\n",
      " ['100' '1377']\n",
      " ['plugin' '1375']\n",
      " ['missing' '1374']\n",
      " ['login' '1373']\n",
      " ['title' '1369']\n",
      " ['either' '1359']\n",
      " ['mysql' '1356']\n",
      " ['window' '1355']\n",
      " ['returns' '1355']\n",
      " ['log' '1354']\n",
      " ['left' '1352']\n",
      " ['http' '1348']\n",
      " ['type=' '1347']\n",
      " ['row' '1342']\n",
      " ['standard' '1333']\n",
      " ['authentication' '1332']\n",
      " ['mean' '1329']\n",
      " ['session' '1327']\n",
      " ['handle' '1327']\n",
      " ['action' '1327']\n",
      " ['testing' '1322']]\n",
      "CPU times: user 251 ms, sys: 11.8 ms, total: 263 ms\n",
      "Wall time: 262 ms\n"
     ]
    }
   ],
   "source": [
    "%%time\n",
    "n = 400\n",
    "words = []\n",
    "for t in w:\n",
    "     words += t\n",
    "freq_totale = Counter(words)\n",
    "print(np.array(freq_totale.most_common(n)))"
   ]
  },
  {
   "cell_type": "code",
   "execution_count": 38,
   "id": "63ce103c",
   "metadata": {
    "scrolled": false
   },
   "outputs": [
    {
     "data": {
      "image/png": "[encoded data removed]",
      "text/plain": [
       "<Figure size 1080x720 with 1 Axes>"
      ]
     },
     "metadata": {},
     "output_type": "display_data"
    },
    {
     "name": "stdout",
     "output_type": "stream",
     "text": [
      "CPU times: user 470 ms, sys: 136 ms, total: 605 ms\n",
      "Wall time: 453 ms\n"
     ]
    }
   ],
   "source": [
    "%%time\n",
    "nb_titre = 50\n",
    "plt.figure(figsize=(15,10))\n",
    "lst = freq_totale.most_common(nb_titre)\n",
    "df_words = pd.DataFrame(lst, columns=['Word','Count'])\n",
    "df_words = df_words.sort_values(by = 'Count')\n",
    "plt.barh(df_words.Word,df_words.Count)\n",
    "#df_words.plot.bar(x = 'Word',y = 'Count', )\n",
    "for index, value in enumerate(df_words['Count']):\n",
    "    plt.text(value, index, str(value))\n",
    "plt.show()"
   ]
  },
  {
   "cell_type": "markdown",
   "id": "2f5e2e56",
   "metadata": {},
   "source": [
    "### Récupération des données cleanées pour modèles"
   ]
  },
  {
   "cell_type": "code",
   "execution_count": 39,
   "id": "684ee6cc",
   "metadata": {},
   "outputs": [
    {
     "data": {
      "text/html": [
       "<div>\n",
       "<style scoped>\n",
       "    .dataframe tbody tr th:only-of-type {\n",
       "        vertical-align: middle;\n",
       "    }\n",
       "\n",
       "    .dataframe tbody tr th {\n",
       "        vertical-align: top;\n",
       "    }\n",
       "\n",
       "    .dataframe thead th {\n",
       "        text-align: right;\n",
       "    }\n",
       "</style>\n",
       "<table border=\"1\" class=\"dataframe\">\n",
       "  <thead>\n",
       "    <tr style=\"text-align: right;\">\n",
       "      <th></th>\n",
       "      <th>Title</th>\n",
       "      <th>Body</th>\n",
       "      <th>Tags</th>\n",
       "      <th>Id</th>\n",
       "      <th>Score</th>\n",
       "      <th>ViewCount</th>\n",
       "      <th>FavoriteCount</th>\n",
       "      <th>AnswerCount</th>\n",
       "      <th>len_Title</th>\n",
       "      <th>len_Body</th>\n",
       "      <th>Body+Title</th>\n",
       "      <th>sentence_title_bow</th>\n",
       "      <th>sentence_title_bow_lem</th>\n",
       "      <th>sentence__title_dl</th>\n",
       "      <th>len_sentence_title_bow</th>\n",
       "      <th>len_sentence_title_bow_lem</th>\n",
       "      <th>len_sentence__title_dl</th>\n",
       "      <th>gain_%</th>\n",
       "    </tr>\n",
       "  </thead>\n",
       "  <tbody>\n",
       "    <tr>\n",
       "      <th>0</th>\n",
       "      <td>Print array without brackets and commas</td>\n",
       "      <td>&lt;p&gt;I'm porting a Hangman game to Android and h...</td>\n",
       "      <td>&lt;java&gt;&lt;android&gt;&lt;arrays&gt;&lt;list&gt;&lt;collections&gt;</td>\n",
       "      <td>4389480</td>\n",
       "      <td>55</td>\n",
       "      <td>192840</td>\n",
       "      <td>17</td>\n",
       "      <td>12</td>\n",
       "      <td>39</td>\n",
       "      <td>1079</td>\n",
       "      <td>Print array without brackets and commas &lt;p&gt;I'm...</td>\n",
       "      <td>print array without brackets commas porting ha...</td>\n",
       "      <td>print array without bracket comma porting hang...</td>\n",
       "      <td>print array without brackets and commas &lt; p &gt; ...</td>\n",
       "      <td>747</td>\n",
       "      <td>738</td>\n",
       "      <td>1231</td>\n",
       "      <td>32.0</td>\n",
       "    </tr>\n",
       "    <tr>\n",
       "      <th>1</th>\n",
       "      <td>Allen Holub wrote \"You should never use get/se...</td>\n",
       "      <td>&lt;p&gt;Allen Holub wrote the following,&lt;/p&gt;\\n\\n&lt;bl...</td>\n",
       "      <td>&lt;language-agnostic&gt;&lt;oop&gt;&lt;immutability&gt;&lt;setter&gt;...</td>\n",
       "      <td>996179</td>\n",
       "      <td>51</td>\n",
       "      <td>9946</td>\n",
       "      <td>26</td>\n",
       "      <td>13</td>\n",
       "      <td>74</td>\n",
       "      <td>2665</td>\n",
       "      <td>Allen Holub wrote \"You should never use get/se...</td>\n",
       "      <td>allen holub wrote you never use get set functi...</td>\n",
       "      <td>allen holub wrote you never use get set functi...</td>\n",
       "      <td>allen holub wrote `` you should never use get ...</td>\n",
       "      <td>1856</td>\n",
       "      <td>1818</td>\n",
       "      <td>2904</td>\n",
       "      <td>32.0</td>\n",
       "    </tr>\n",
       "    <tr>\n",
       "      <th>2</th>\n",
       "      <td>How do you get a directory listing in C?</td>\n",
       "      <td>&lt;p&gt;How do you scan a directory for folders and...</td>\n",
       "      <td>&lt;c&gt;&lt;file&gt;&lt;directory&gt;&lt;cross-platform&gt;&lt;common-ta...</td>\n",
       "      <td>12489</td>\n",
       "      <td>68</td>\n",
       "      <td>138108</td>\n",
       "      <td>22</td>\n",
       "      <td>9</td>\n",
       "      <td>40</td>\n",
       "      <td>94</td>\n",
       "      <td>How do you get a directory listing in C? &lt;p&gt;Ho...</td>\n",
       "      <td>how get directory listing how scan directory f...</td>\n",
       "      <td>how get directory listing how scan directory f...</td>\n",
       "      <td>how do you get a directory listing in c ? &lt; p ...</td>\n",
       "      <td>80</td>\n",
       "      <td>77</td>\n",
       "      <td>141</td>\n",
       "      <td>18.0</td>\n",
       "    </tr>\n",
       "    <tr>\n",
       "      <th>3</th>\n",
       "      <td>Returning DataTables in WCF/.NET</td>\n",
       "      <td>&lt;p&gt;I have a WCF service from which I want to r...</td>\n",
       "      <td>&lt;c#&gt;&lt;.net&gt;&lt;wcf&gt;&lt;web-services&gt;&lt;datatable&gt;</td>\n",
       "      <td>12702</td>\n",
       "      <td>51</td>\n",
       "      <td>56351</td>\n",
       "      <td>12</td>\n",
       "      <td>8</td>\n",
       "      <td>32</td>\n",
       "      <td>1466</td>\n",
       "      <td>Returning DataTables in WCF/.NET &lt;p&gt;I have a W...</td>\n",
       "      <td>returning datatables wcf .net wcf service want...</td>\n",
       "      <td>returning datatables wcf .net wcf service want...</td>\n",
       "      <td>returning datatables in wcf .net &lt; p &gt; i have ...</td>\n",
       "      <td>973</td>\n",
       "      <td>971</td>\n",
       "      <td>1558</td>\n",
       "      <td>34.0</td>\n",
       "    </tr>\n",
       "    <tr>\n",
       "      <th>4</th>\n",
       "      <td>Element not visible error (not able to click a...</td>\n",
       "      <td>&lt;p&gt;I want to click on a radio button, appears ...</td>\n",
       "      <td>&lt;javascript&gt;&lt;angularjs&gt;&lt;selenium&gt;&lt;selenium-web...</td>\n",
       "      <td>37809915</td>\n",
       "      <td>43</td>\n",
       "      <td>44978</td>\n",
       "      <td>21</td>\n",
       "      <td>1</td>\n",
       "      <td>56</td>\n",
       "      <td>1767</td>\n",
       "      <td>Element not visible error (not able to click a...</td>\n",
       "      <td>element visible error able click element want ...</td>\n",
       "      <td>element visible error able click element want ...</td>\n",
       "      <td>element not visible error ( not able to click ...</td>\n",
       "      <td>1265</td>\n",
       "      <td>1261</td>\n",
       "      <td>2020</td>\n",
       "      <td>29.0</td>\n",
       "    </tr>\n",
       "  </tbody>\n",
       "</table>\n",
       "</div>"
      ],
      "text/plain": [
       "                                               Title  \\\n",
       "0            Print array without brackets and commas   \n",
       "1  Allen Holub wrote \"You should never use get/se...   \n",
       "2           How do you get a directory listing in C?   \n",
       "3                   Returning DataTables in WCF/.NET   \n",
       "4  Element not visible error (not able to click a...   \n",
       "\n",
       "                                                Body  \\\n",
       "0  <p>I'm porting a Hangman game to Android and h...   \n",
       "1  <p>Allen Holub wrote the following,</p>\\n\\n<bl...   \n",
       "2  <p>How do you scan a directory for folders and...   \n",
       "3  <p>I have a WCF service from which I want to r...   \n",
       "4  <p>I want to click on a radio button, appears ...   \n",
       "\n",
       "                                                Tags        Id  Score  \\\n",
       "0         <java><android><arrays><list><collections>   4389480     55   \n",
       "1  <language-agnostic><oop><immutability><setter>...    996179     51   \n",
       "2  <c><file><directory><cross-platform><common-ta...     12489     68   \n",
       "3           <c#><.net><wcf><web-services><datatable>     12702     51   \n",
       "4  <javascript><angularjs><selenium><selenium-web...  37809915     43   \n",
       "\n",
       "   ViewCount  FavoriteCount  AnswerCount  len_Title  len_Body  \\\n",
       "0     192840             17           12         39      1079   \n",
       "1       9946             26           13         74      2665   \n",
       "2     138108             22            9         40        94   \n",
       "3      56351             12            8         32      1466   \n",
       "4      44978             21            1         56      1767   \n",
       "\n",
       "                                          Body+Title  \\\n",
       "0  Print array without brackets and commas <p>I'm...   \n",
       "1  Allen Holub wrote \"You should never use get/se...   \n",
       "2  How do you get a directory listing in C? <p>Ho...   \n",
       "3  Returning DataTables in WCF/.NET <p>I have a W...   \n",
       "4  Element not visible error (not able to click a...   \n",
       "\n",
       "                                  sentence_title_bow  \\\n",
       "0  print array without brackets commas porting ha...   \n",
       "1  allen holub wrote you never use get set functi...   \n",
       "2  how get directory listing how scan directory f...   \n",
       "3  returning datatables wcf .net wcf service want...   \n",
       "4  element visible error able click element want ...   \n",
       "\n",
       "                              sentence_title_bow_lem  \\\n",
       "0  print array without bracket comma porting hang...   \n",
       "1  allen holub wrote you never use get set functi...   \n",
       "2  how get directory listing how scan directory f...   \n",
       "3  returning datatables wcf .net wcf service want...   \n",
       "4  element visible error able click element want ...   \n",
       "\n",
       "                                  sentence__title_dl  len_sentence_title_bow  \\\n",
       "0  print array without brackets and commas < p > ...                     747   \n",
       "1  allen holub wrote `` you should never use get ...                    1856   \n",
       "2  how do you get a directory listing in c ? < p ...                      80   \n",
       "3  returning datatables in wcf .net < p > i have ...                     973   \n",
       "4  element not visible error ( not able to click ...                    1265   \n",
       "\n",
       "   len_sentence_title_bow_lem  len_sentence__title_dl  gain_%  \n",
       "0                         738                    1231    32.0  \n",
       "1                        1818                    2904    32.0  \n",
       "2                          77                     141    18.0  \n",
       "3                         971                    1558    34.0  \n",
       "4                        1261                    2020    29.0  "
      ]
     },
     "execution_count": 39,
     "metadata": {},
     "output_type": "execute_result"
    }
   ],
   "source": [
    "df.head()"
   ]
  },
  {
   "cell_type": "code",
   "execution_count": 40,
   "id": "83e91bbf",
   "metadata": {},
   "outputs": [],
   "source": [
    "df_clean = df.loc[:,[\"Title\",\"Tags\",\"sentence_title_bow\",\"ViewCount\"]]"
   ]
  },
  {
   "cell_type": "code",
   "execution_count": 41,
   "id": "9ac118f0",
   "metadata": {},
   "outputs": [],
   "source": [
    "df_clean.to_csv('/home/fayz/Documents/OpenClassrooms/Projet5/df_clean.csv',index = False)"
   ]
  },
  {
   "cell_type": "markdown",
   "id": "716f2e62",
   "metadata": {},
   "source": [
    "## Séparation du jeu de données"
   ]
  },
  {
   "cell_type": "code",
   "execution_count": 42,
   "id": "4c76ed73",
   "metadata": {},
   "outputs": [],
   "source": [
    "X = df_clean.copy()\n",
    "X_train, X_test = train_test_split(X, test_size = 0.2, random_state = 20)"
   ]
  },
  {
   "cell_type": "code",
   "execution_count": 43,
   "id": "e169b9fc",
   "metadata": {},
   "outputs": [],
   "source": [
    "import gensim\n",
    "import gensim.corpora as corpora\n",
    "from gensim.utils import simple_preprocess\n",
    "from gensim.models import CoherenceModel\n",
    "import pyLDAvis"
   ]
  },
  {
   "cell_type": "code",
   "execution_count": 44,
   "id": "9e893b6a",
   "metadata": {},
   "outputs": [],
   "source": [
    "X_train = X_train.sort_index()"
   ]
  },
  {
   "cell_type": "code",
   "execution_count": 45,
   "id": "ef80b9b4",
   "metadata": {},
   "outputs": [],
   "source": [
    "def gen_words(texts):\n",
    "    final = []\n",
    "    for text in texts:\n",
    "        new = gensim.utils.simple_preprocess(text, deacc = True)\n",
    "        final.append(new)\n",
    "    return final\n",
    "data_words = gen_words(X_train[\"sentence_title_bow\"])\n",
    "#data_words = gen_words(X_train[\"Tags\"])"
   ]
  },
  {
   "cell_type": "code",
   "execution_count": 46,
   "id": "1d3265b8",
   "metadata": {},
   "outputs": [
    {
     "data": {
      "text/plain": [
       "'print array without brackets commas porting hangman game android met problems the original'"
      ]
     },
     "execution_count": 46,
     "metadata": {},
     "output_type": "execute_result"
    }
   ],
   "source": [
    "X_train['sentence_title_bow'][0][0:90]"
   ]
  },
  {
   "cell_type": "code",
   "execution_count": 47,
   "id": "8249d23e",
   "metadata": {},
   "outputs": [
    {
     "data": {
      "text/plain": [
       "'<java><android><arrays><list><collections>'"
      ]
     },
     "execution_count": 47,
     "metadata": {},
     "output_type": "execute_result"
    }
   ],
   "source": [
    "X_train['Tags'][0][0:90]"
   ]
  },
  {
   "cell_type": "markdown",
   "id": "12cb9a2e",
   "metadata": {},
   "source": [
    "## Bag of words"
   ]
  },
  {
   "cell_type": "code",
   "execution_count": 59,
   "id": "0b0824d1",
   "metadata": {},
   "outputs": [
    {
     "data": {
      "text/html": [
       "<div>\n",
       "<style scoped>\n",
       "    .dataframe tbody tr th:only-of-type {\n",
       "        vertical-align: middle;\n",
       "    }\n",
       "\n",
       "    .dataframe tbody tr th {\n",
       "        vertical-align: top;\n",
       "    }\n",
       "\n",
       "    .dataframe thead th {\n",
       "        text-align: right;\n",
       "    }\n",
       "</style>\n",
       "<table border=\"1\" class=\"dataframe\">\n",
       "  <thead>\n",
       "    <tr style=\"text-align: right;\">\n",
       "      <th></th>\n",
       "      <th>00</th>\n",
       "      <th>10</th>\n",
       "      <th>100</th>\n",
       "      <th>1000</th>\n",
       "      <th>11</th>\n",
       "      <th>12</th>\n",
       "      <th>13</th>\n",
       "      <th>14</th>\n",
       "      <th>15</th>\n",
       "      <th>16</th>\n",
       "      <th>...</th>\n",
       "      <th>wrong</th>\n",
       "      <th>wrote</th>\n",
       "      <th>www</th>\n",
       "      <th>x86</th>\n",
       "      <th>xcode</th>\n",
       "      <th>xml</th>\n",
       "      <th>xmlns</th>\n",
       "      <th>yes</th>\n",
       "      <th>yet</th>\n",
       "      <th>you</th>\n",
       "    </tr>\n",
       "  </thead>\n",
       "  <tbody>\n",
       "    <tr>\n",
       "      <th>0</th>\n",
       "      <td>0.0</td>\n",
       "      <td>0.0</td>\n",
       "      <td>0.000000</td>\n",
       "      <td>0.0</td>\n",
       "      <td>0.0</td>\n",
       "      <td>0.0</td>\n",
       "      <td>0.0</td>\n",
       "      <td>0.0</td>\n",
       "      <td>0.0</td>\n",
       "      <td>0.000000</td>\n",
       "      <td>...</td>\n",
       "      <td>0.000000</td>\n",
       "      <td>0.000000</td>\n",
       "      <td>0.000000</td>\n",
       "      <td>0.0</td>\n",
       "      <td>0.0</td>\n",
       "      <td>0.0</td>\n",
       "      <td>0.0</td>\n",
       "      <td>0.0</td>\n",
       "      <td>0.0</td>\n",
       "      <td>0.000000</td>\n",
       "    </tr>\n",
       "    <tr>\n",
       "      <th>1</th>\n",
       "      <td>0.0</td>\n",
       "      <td>0.0</td>\n",
       "      <td>0.000000</td>\n",
       "      <td>0.0</td>\n",
       "      <td>0.0</td>\n",
       "      <td>0.0</td>\n",
       "      <td>0.0</td>\n",
       "      <td>0.0</td>\n",
       "      <td>0.0</td>\n",
       "      <td>0.000000</td>\n",
       "      <td>...</td>\n",
       "      <td>0.101239</td>\n",
       "      <td>0.146952</td>\n",
       "      <td>0.090472</td>\n",
       "      <td>0.0</td>\n",
       "      <td>0.0</td>\n",
       "      <td>0.0</td>\n",
       "      <td>0.0</td>\n",
       "      <td>0.0</td>\n",
       "      <td>0.0</td>\n",
       "      <td>0.231667</td>\n",
       "    </tr>\n",
       "    <tr>\n",
       "      <th>2</th>\n",
       "      <td>0.0</td>\n",
       "      <td>0.0</td>\n",
       "      <td>0.000000</td>\n",
       "      <td>0.0</td>\n",
       "      <td>0.0</td>\n",
       "      <td>0.0</td>\n",
       "      <td>0.0</td>\n",
       "      <td>0.0</td>\n",
       "      <td>0.0</td>\n",
       "      <td>0.000000</td>\n",
       "      <td>...</td>\n",
       "      <td>0.000000</td>\n",
       "      <td>0.000000</td>\n",
       "      <td>0.000000</td>\n",
       "      <td>0.0</td>\n",
       "      <td>0.0</td>\n",
       "      <td>0.0</td>\n",
       "      <td>0.0</td>\n",
       "      <td>0.0</td>\n",
       "      <td>0.0</td>\n",
       "      <td>0.000000</td>\n",
       "    </tr>\n",
       "    <tr>\n",
       "      <th>3</th>\n",
       "      <td>0.0</td>\n",
       "      <td>0.0</td>\n",
       "      <td>0.086769</td>\n",
       "      <td>0.0</td>\n",
       "      <td>0.0</td>\n",
       "      <td>0.0</td>\n",
       "      <td>0.0</td>\n",
       "      <td>0.0</td>\n",
       "      <td>0.0</td>\n",
       "      <td>0.000000</td>\n",
       "      <td>...</td>\n",
       "      <td>0.000000</td>\n",
       "      <td>0.000000</td>\n",
       "      <td>0.000000</td>\n",
       "      <td>0.0</td>\n",
       "      <td>0.0</td>\n",
       "      <td>0.0</td>\n",
       "      <td>0.0</td>\n",
       "      <td>0.0</td>\n",
       "      <td>0.0</td>\n",
       "      <td>0.000000</td>\n",
       "    </tr>\n",
       "    <tr>\n",
       "      <th>4</th>\n",
       "      <td>0.0</td>\n",
       "      <td>0.0</td>\n",
       "      <td>0.000000</td>\n",
       "      <td>0.0</td>\n",
       "      <td>0.0</td>\n",
       "      <td>0.0</td>\n",
       "      <td>0.0</td>\n",
       "      <td>0.0</td>\n",
       "      <td>0.0</td>\n",
       "      <td>0.152729</td>\n",
       "      <td>...</td>\n",
       "      <td>0.000000</td>\n",
       "      <td>0.000000</td>\n",
       "      <td>0.000000</td>\n",
       "      <td>0.0</td>\n",
       "      <td>0.0</td>\n",
       "      <td>0.0</td>\n",
       "      <td>0.0</td>\n",
       "      <td>0.0</td>\n",
       "      <td>0.0</td>\n",
       "      <td>0.000000</td>\n",
       "    </tr>\n",
       "  </tbody>\n",
       "</table>\n",
       "<p>5 rows × 1211 columns</p>\n",
       "</div>"
      ],
      "text/plain": [
       "    00   10       100  1000   11   12   13   14   15        16  ...     wrong  \\\n",
       "0  0.0  0.0  0.000000   0.0  0.0  0.0  0.0  0.0  0.0  0.000000  ...  0.000000   \n",
       "1  0.0  0.0  0.000000   0.0  0.0  0.0  0.0  0.0  0.0  0.000000  ...  0.101239   \n",
       "2  0.0  0.0  0.000000   0.0  0.0  0.0  0.0  0.0  0.0  0.000000  ...  0.000000   \n",
       "3  0.0  0.0  0.086769   0.0  0.0  0.0  0.0  0.0  0.0  0.000000  ...  0.000000   \n",
       "4  0.0  0.0  0.000000   0.0  0.0  0.0  0.0  0.0  0.0  0.152729  ...  0.000000   \n",
       "\n",
       "      wrote       www  x86  xcode  xml  xmlns  yes  yet       you  \n",
       "0  0.000000  0.000000  0.0    0.0  0.0    0.0  0.0  0.0  0.000000  \n",
       "1  0.146952  0.090472  0.0    0.0  0.0    0.0  0.0  0.0  0.231667  \n",
       "2  0.000000  0.000000  0.0    0.0  0.0    0.0  0.0  0.0  0.000000  \n",
       "3  0.000000  0.000000  0.0    0.0  0.0    0.0  0.0  0.0  0.000000  \n",
       "4  0.000000  0.000000  0.0    0.0  0.0    0.0  0.0  0.0  0.000000  \n",
       "\n",
       "[5 rows x 1211 columns]"
      ]
     },
     "execution_count": 59,
     "metadata": {},
     "output_type": "execute_result"
    }
   ],
   "source": [
    "vectorizer = TfidfVectorizer(min_df=0.01)\n",
    "X = vectorizer.fit_transform(X_train[\"sentence_title_bow\"])\n",
    "vectorizer.get_feature_names_out()\n",
    "df_bow_sklearn = pd.DataFrame(X.toarray(),columns=vectorizer.get_feature_names())\n",
    "df_bow_sklearn.head()"
   ]
  },
  {
   "cell_type": "code",
   "execution_count": 61,
   "id": "66dd551b",
   "metadata": {},
   "outputs": [
    {
     "data": {
      "text/html": [
       "<div>\n",
       "<style scoped>\n",
       "    .dataframe tbody tr th:only-of-type {\n",
       "        vertical-align: middle;\n",
       "    }\n",
       "\n",
       "    .dataframe tbody tr th {\n",
       "        vertical-align: top;\n",
       "    }\n",
       "\n",
       "    .dataframe thead th {\n",
       "        text-align: right;\n",
       "    }\n",
       "</style>\n",
       "<table border=\"1\" class=\"dataframe\">\n",
       "  <thead>\n",
       "    <tr style=\"text-align: right;\">\n",
       "      <th></th>\n",
       "      <th>00</th>\n",
       "      <th>10</th>\n",
       "      <th>100</th>\n",
       "      <th>1000</th>\n",
       "      <th>11</th>\n",
       "      <th>12</th>\n",
       "      <th>13</th>\n",
       "      <th>14</th>\n",
       "      <th>15</th>\n",
       "      <th>16</th>\n",
       "      <th>...</th>\n",
       "      <th>wrong</th>\n",
       "      <th>wrote</th>\n",
       "      <th>www</th>\n",
       "      <th>x86</th>\n",
       "      <th>xcode</th>\n",
       "      <th>xml</th>\n",
       "      <th>xmlns</th>\n",
       "      <th>yes</th>\n",
       "      <th>yet</th>\n",
       "      <th>you</th>\n",
       "    </tr>\n",
       "  </thead>\n",
       "  <tbody>\n",
       "    <tr>\n",
       "      <th>0</th>\n",
       "      <td>0</td>\n",
       "      <td>0</td>\n",
       "      <td>0</td>\n",
       "      <td>0</td>\n",
       "      <td>0</td>\n",
       "      <td>0</td>\n",
       "      <td>0</td>\n",
       "      <td>0</td>\n",
       "      <td>0</td>\n",
       "      <td>0</td>\n",
       "      <td>...</td>\n",
       "      <td>0</td>\n",
       "      <td>0</td>\n",
       "      <td>0</td>\n",
       "      <td>0</td>\n",
       "      <td>0</td>\n",
       "      <td>0</td>\n",
       "      <td>0</td>\n",
       "      <td>0</td>\n",
       "      <td>0</td>\n",
       "      <td>0</td>\n",
       "    </tr>\n",
       "    <tr>\n",
       "      <th>1</th>\n",
       "      <td>0</td>\n",
       "      <td>0</td>\n",
       "      <td>0</td>\n",
       "      <td>0</td>\n",
       "      <td>0</td>\n",
       "      <td>0</td>\n",
       "      <td>0</td>\n",
       "      <td>0</td>\n",
       "      <td>0</td>\n",
       "      <td>0</td>\n",
       "      <td>...</td>\n",
       "      <td>2</td>\n",
       "      <td>2</td>\n",
       "      <td>2</td>\n",
       "      <td>0</td>\n",
       "      <td>0</td>\n",
       "      <td>0</td>\n",
       "      <td>0</td>\n",
       "      <td>0</td>\n",
       "      <td>0</td>\n",
       "      <td>4</td>\n",
       "    </tr>\n",
       "    <tr>\n",
       "      <th>2</th>\n",
       "      <td>0</td>\n",
       "      <td>0</td>\n",
       "      <td>0</td>\n",
       "      <td>0</td>\n",
       "      <td>0</td>\n",
       "      <td>0</td>\n",
       "      <td>0</td>\n",
       "      <td>0</td>\n",
       "      <td>0</td>\n",
       "      <td>0</td>\n",
       "      <td>...</td>\n",
       "      <td>0</td>\n",
       "      <td>0</td>\n",
       "      <td>0</td>\n",
       "      <td>0</td>\n",
       "      <td>0</td>\n",
       "      <td>0</td>\n",
       "      <td>0</td>\n",
       "      <td>0</td>\n",
       "      <td>0</td>\n",
       "      <td>0</td>\n",
       "    </tr>\n",
       "    <tr>\n",
       "      <th>3</th>\n",
       "      <td>0</td>\n",
       "      <td>0</td>\n",
       "      <td>1</td>\n",
       "      <td>0</td>\n",
       "      <td>0</td>\n",
       "      <td>0</td>\n",
       "      <td>0</td>\n",
       "      <td>0</td>\n",
       "      <td>0</td>\n",
       "      <td>0</td>\n",
       "      <td>...</td>\n",
       "      <td>0</td>\n",
       "      <td>0</td>\n",
       "      <td>0</td>\n",
       "      <td>0</td>\n",
       "      <td>0</td>\n",
       "      <td>0</td>\n",
       "      <td>0</td>\n",
       "      <td>0</td>\n",
       "      <td>0</td>\n",
       "      <td>0</td>\n",
       "    </tr>\n",
       "    <tr>\n",
       "      <th>4</th>\n",
       "      <td>0</td>\n",
       "      <td>0</td>\n",
       "      <td>0</td>\n",
       "      <td>0</td>\n",
       "      <td>0</td>\n",
       "      <td>0</td>\n",
       "      <td>0</td>\n",
       "      <td>0</td>\n",
       "      <td>0</td>\n",
       "      <td>2</td>\n",
       "      <td>...</td>\n",
       "      <td>0</td>\n",
       "      <td>0</td>\n",
       "      <td>0</td>\n",
       "      <td>0</td>\n",
       "      <td>0</td>\n",
       "      <td>0</td>\n",
       "      <td>0</td>\n",
       "      <td>0</td>\n",
       "      <td>0</td>\n",
       "      <td>0</td>\n",
       "    </tr>\n",
       "  </tbody>\n",
       "</table>\n",
       "<p>5 rows × 1211 columns</p>\n",
       "</div>"
      ],
      "text/plain": [
       "   00  10  100  1000  11  12  13  14  15  16  ...  wrong  wrote  www  x86  \\\n",
       "0   0   0    0     0   0   0   0   0   0   0  ...      0      0    0    0   \n",
       "1   0   0    0     0   0   0   0   0   0   0  ...      2      2    2    0   \n",
       "2   0   0    0     0   0   0   0   0   0   0  ...      0      0    0    0   \n",
       "3   0   0    1     0   0   0   0   0   0   0  ...      0      0    0    0   \n",
       "4   0   0    0     0   0   0   0   0   0   2  ...      0      0    0    0   \n",
       "\n",
       "   xcode  xml  xmlns  yes  yet  you  \n",
       "0      0    0      0    0    0    0  \n",
       "1      0    0      0    0    0    4  \n",
       "2      0    0      0    0    0    0  \n",
       "3      0    0      0    0    0    0  \n",
       "4      0    0      0    0    0    0  \n",
       "\n",
       "[5 rows x 1211 columns]"
      ]
     },
     "execution_count": 61,
     "metadata": {},
     "output_type": "execute_result"
    }
   ],
   "source": [
    "from sklearn.feature_extraction.text import CountVectorizer\n",
    "vectorizer = CountVectorizer(min_df=0.01)\n",
    "X = vectorizer.fit_transform(X_train[\"sentence_title_bow\"])\n",
    "df_bow_sklearn = pd.DataFrame(X.toarray(),columns=vectorizer.get_feature_names())\n",
    "df_bow_sklearn.head()"
   ]
  }
 ],
 "metadata": {
  "kernelspec": {
   "display_name": "Python 3 (ipykernel)",
   "language": "python",
   "name": "python3"
  },
  "language_info": {
   "codemirror_mode": {
    "name": "ipython",
    "version": 3
   },
   "file_extension": ".py",
   "mimetype": "text/x-python",
   "name": "python",
   "nbconvert_exporter": "python",
   "pygments_lexer": "ipython3",
   "version": "3.10.4"
  }
 },
 "nbformat": 4,
 "nbformat_minor": 5
}
